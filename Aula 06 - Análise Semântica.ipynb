{
 "cells": [
  {
   "cell_type": "markdown",
   "metadata": {
    "id": "TrosQmOj2Mnw"
   },
   "source": [
    "### Exemplo 01 - Representação do significado das palavras e frases com redes Semânticas."
   ]
  },
  {
   "cell_type": "code",
   "execution_count": null,
   "metadata": {
    "colab": {
     "base_uri": "https://localhost:8080/"
    },
    "executionInfo": {
     "elapsed": 21392,
     "status": "ok",
     "timestamp": 1743200749530,
     "user": {
      "displayName": "Lucas Martins",
      "userId": "08742951645617950199"
     },
     "user_tz": 180
    },
    "id": "3S13yzjb2bVN",
    "outputId": "e10b51bb-04e0-485a-9f23-76f0992bb7af"
   },
   "outputs": [
    {
     "name": "stderr",
     "output_type": "stream",
     "text": [
      "[nltk_data] Downloading package wordnet to /root/nltk_data...\n",
      "[nltk_data] Downloading package omw-1.4 to /root/nltk_data...\n"
     ]
    },
    {
     "name": "stdout",
     "output_type": "stream",
     "text": [
      "[Synset('beach_wagon.n.01'), Synset('car.n.01'), Synset('car.n.02'), Synset('cart.n.01')]\n",
      "beach_wagon\n",
      "car\n",
      "car\n",
      "cart\n"
     ]
    }
   ],
   "source": [
    "import nltk\n",
    "from nltk.corpus import wordnet\n",
    "\n",
    "nltk.download('wordnet')\n",
    "\n",
    "nltk.download('omw-1.4')\n",
    "\n",
    "sinonimos = wordnet.synsets(\"carro\", lang=\"por\")\n",
    "\n",
    "print(sinonimos)\n",
    "\n",
    "for s in sinonimos:\n",
    "  print(s.lemmas()[0].name())"
   ]
  },
  {
   "cell_type": "markdown",
   "metadata": {
    "id": "rNPwpEyg3KcJ"
   },
   "source": [
    "### Exemplo 02 - Representação do significado das palavras e frases por Vetores (embeddings)."
   ]
  },
  {
   "cell_type": "code",
   "execution_count": null,
   "metadata": {
    "colab": {
     "base_uri": "https://localhost:8080/"
    },
    "executionInfo": {
     "elapsed": 16170,
     "status": "ok",
     "timestamp": 1743200856920,
     "user": {
      "displayName": "Lucas Martins",
      "userId": "08742951645617950199"
     },
     "user_tz": 180
    },
    "id": "ZM8nVzr23WDM",
    "outputId": "7ecd37b8-e3d6-45ed-b8c7-4e211fbc84ac"
   },
   "outputs": [
    {
     "name": "stdout",
     "output_type": "stream",
     "text": [
      "Collecting pt-core-news-md==3.8.0\n",
      "  Downloading https://github.com/explosion/spacy-models/releases/download/pt_core_news_md-3.8.0/pt_core_news_md-3.8.0-py3-none-any.whl (42.4 MB)\n",
      "\u001b[2K     \u001b[90m━━━━━━━━━━━━━━━━━━━━━━━━━━━━━━━━━━━━━━━━\u001b[0m \u001b[32m42.4/42.4 MB\u001b[0m \u001b[31m15.8 MB/s\u001b[0m eta \u001b[36m0:00:00\u001b[0m\n",
      "\u001b[?25hInstalling collected packages: pt-core-news-md\n",
      "Successfully installed pt-core-news-md-3.8.0\n",
      "\u001b[38;5;2m✔ Download and installation successful\u001b[0m\n",
      "You can now load the package via spacy.load('pt_core_news_md')\n",
      "\u001b[38;5;3m⚠ Restart to reload dependencies\u001b[0m\n",
      "If you are in a Jupyter or Colab notebook, you may need to restart Python in\n",
      "order to load all the package's dependencies. You can do this by selecting the\n",
      "'Restart kernel' or 'Restart runtime' option.\n"
     ]
    }
   ],
   "source": [
    "!python -m spacy download pt_core_news_md"
   ]
  },
  {
   "cell_type": "code",
   "execution_count": null,
   "metadata": {
    "colab": {
     "base_uri": "https://localhost:8080/"
    },
    "executionInfo": {
     "elapsed": 5259,
     "status": "ok",
     "timestamp": 1743200951164,
     "user": {
      "displayName": "Lucas Martins",
      "userId": "08742951645617950199"
     },
     "user_tz": 180
    },
    "id": "eNZHUEq93jXE",
    "outputId": "fef2d0a0-8918-4e14-b8e1-e57d8ee4a5b1"
   },
   "outputs": [
    {
     "name": "stdout",
     "output_type": "stream",
     "text": [
      "0.6001228094100952\n"
     ]
    }
   ],
   "source": [
    "import spacy\n",
    "\n",
    "nlp = spacy.load('pt_core_news_md')\n",
    "\n",
    "palavra1 = nlp('rei')\n",
    "palavra2 = nlp('rainha')\n",
    "\n",
    "print(palavra1.similarity(palavra2))"
   ]
  },
  {
   "cell_type": "markdown",
   "metadata": {
    "id": "o3jX_FiV4HzM"
   },
   "source": [
    "### Exemplo 03 - Árvore Sintática"
   ]
  },
  {
   "cell_type": "code",
   "execution_count": null,
   "metadata": {
    "colab": {
     "base_uri": "https://localhost:8080/"
    },
    "executionInfo": {
     "elapsed": 12919,
     "status": "ok",
     "timestamp": 1743201080396,
     "user": {
      "displayName": "Lucas Martins",
      "userId": "08742951645617950199"
     },
     "user_tz": 180
    },
    "id": "1Fr3D_uV4ONH",
    "outputId": "523dca1b-49a3-4323-f040-c2b6d2df44ce"
   },
   "outputs": [
    {
     "name": "stdout",
     "output_type": "stream",
     "text": [
      "Collecting pt-core-news-sm==3.8.0\n",
      "  Downloading https://github.com/explosion/spacy-models/releases/download/pt_core_news_sm-3.8.0/pt_core_news_sm-3.8.0-py3-none-any.whl (13.0 MB)\n",
      "\u001b[2K     \u001b[90m━━━━━━━━━━━━━━━━━━━━━━━━━━━━━━━━━━━━━━━━\u001b[0m \u001b[32m13.0/13.0 MB\u001b[0m \u001b[31m10.0 MB/s\u001b[0m eta \u001b[36m0:00:00\u001b[0m\n",
      "\u001b[?25hInstalling collected packages: pt-core-news-sm\n",
      "Successfully installed pt-core-news-sm-3.8.0\n",
      "\u001b[38;5;2m✔ Download and installation successful\u001b[0m\n",
      "You can now load the package via spacy.load('pt_core_news_sm')\n",
      "\u001b[38;5;3m⚠ Restart to reload dependencies\u001b[0m\n",
      "If you are in a Jupyter or Colab notebook, you may need to restart Python in\n",
      "order to load all the package's dependencies. You can do this by selecting the\n",
      "'Restart kernel' or 'Restart runtime' option.\n"
     ]
    }
   ],
   "source": [
    "!python -m spacy download pt_core_news_sm"
   ]
  },
  {
   "cell_type": "code",
   "execution_count": null,
   "metadata": {
    "colab": {
     "base_uri": "https://localhost:8080/",
     "height": 354
    },
    "executionInfo": {
     "elapsed": 696,
     "status": "ok",
     "timestamp": 1743201184047,
     "user": {
      "displayName": "Lucas Martins",
      "userId": "08742951645617950199"
     },
     "user_tz": 180
    },
    "id": "XLCXnGyW4W-o",
    "outputId": "e66ca6c0-bac8-4d15-8381-5f150bdd43f9"
   },
   "outputs": [
    {
     "data": {
      "text/html": [
       "<span class=\"tex2jax_ignore\"><svg xmlns=\"http://www.w3.org/2000/svg\" xmlns:xlink=\"http://www.w3.org/1999/xlink\" xml:lang=\"pt\" id=\"4ffc6081062147a191a63f1d8fa7a1f1-0\" class=\"displacy\" width=\"925\" height=\"312.0\" direction=\"ltr\" style=\"max-width: none; height: 312.0px; color: #000000; background: #ffffff; font-family: Arial; direction: ltr\">\n",
       "<text class=\"displacy-token\" fill=\"currentColor\" text-anchor=\"middle\" y=\"222.0\">\n",
       "    <tspan class=\"displacy-word\" fill=\"currentColor\" x=\"50\">O</tspan>\n",
       "    <tspan class=\"displacy-tag\" dy=\"2em\" fill=\"currentColor\" x=\"50\">DET</tspan>\n",
       "</text>\n",
       "\n",
       "<text class=\"displacy-token\" fill=\"currentColor\" text-anchor=\"middle\" y=\"222.0\">\n",
       "    <tspan class=\"displacy-word\" fill=\"currentColor\" x=\"225\">cachorro</tspan>\n",
       "    <tspan class=\"displacy-tag\" dy=\"2em\" fill=\"currentColor\" x=\"225\">NOUN</tspan>\n",
       "</text>\n",
       "\n",
       "<text class=\"displacy-token\" fill=\"currentColor\" text-anchor=\"middle\" y=\"222.0\">\n",
       "    <tspan class=\"displacy-word\" fill=\"currentColor\" x=\"400\">correu</tspan>\n",
       "    <tspan class=\"displacy-tag\" dy=\"2em\" fill=\"currentColor\" x=\"400\">VERB</tspan>\n",
       "</text>\n",
       "\n",
       "<text class=\"displacy-token\" fill=\"currentColor\" text-anchor=\"middle\" y=\"222.0\">\n",
       "    <tspan class=\"displacy-word\" fill=\"currentColor\" x=\"575\">no</tspan>\n",
       "    <tspan class=\"displacy-tag\" dy=\"2em\" fill=\"currentColor\" x=\"575\">ADP</tspan>\n",
       "</text>\n",
       "\n",
       "<text class=\"displacy-token\" fill=\"currentColor\" text-anchor=\"middle\" y=\"222.0\">\n",
       "    <tspan class=\"displacy-word\" fill=\"currentColor\" x=\"750\">parque.</tspan>\n",
       "    <tspan class=\"displacy-tag\" dy=\"2em\" fill=\"currentColor\" x=\"750\">NOUN</tspan>\n",
       "</text>\n",
       "\n",
       "<g class=\"displacy-arrow\">\n",
       "    <path class=\"displacy-arc\" id=\"arrow-4ffc6081062147a191a63f1d8fa7a1f1-0-0\" stroke-width=\"2px\" d=\"M70,177.0 C70,89.5 220.0,89.5 220.0,177.0\" fill=\"none\" stroke=\"currentColor\"/>\n",
       "    <text dy=\"1.25em\" style=\"font-size: 0.8em; letter-spacing: 1px\">\n",
       "        <textPath xlink:href=\"#arrow-4ffc6081062147a191a63f1d8fa7a1f1-0-0\" class=\"displacy-label\" startOffset=\"50%\" side=\"left\" fill=\"currentColor\" text-anchor=\"middle\">det</textPath>\n",
       "    </text>\n",
       "    <path class=\"displacy-arrowhead\" d=\"M70,179.0 L62,167.0 78,167.0\" fill=\"currentColor\"/>\n",
       "</g>\n",
       "\n",
       "<g class=\"displacy-arrow\">\n",
       "    <path class=\"displacy-arc\" id=\"arrow-4ffc6081062147a191a63f1d8fa7a1f1-0-1\" stroke-width=\"2px\" d=\"M245,177.0 C245,89.5 395.0,89.5 395.0,177.0\" fill=\"none\" stroke=\"currentColor\"/>\n",
       "    <text dy=\"1.25em\" style=\"font-size: 0.8em; letter-spacing: 1px\">\n",
       "        <textPath xlink:href=\"#arrow-4ffc6081062147a191a63f1d8fa7a1f1-0-1\" class=\"displacy-label\" startOffset=\"50%\" side=\"left\" fill=\"currentColor\" text-anchor=\"middle\">nsubj</textPath>\n",
       "    </text>\n",
       "    <path class=\"displacy-arrowhead\" d=\"M245,179.0 L237,167.0 253,167.0\" fill=\"currentColor\"/>\n",
       "</g>\n",
       "\n",
       "<g class=\"displacy-arrow\">\n",
       "    <path class=\"displacy-arc\" id=\"arrow-4ffc6081062147a191a63f1d8fa7a1f1-0-2\" stroke-width=\"2px\" d=\"M595,177.0 C595,89.5 745.0,89.5 745.0,177.0\" fill=\"none\" stroke=\"currentColor\"/>\n",
       "    <text dy=\"1.25em\" style=\"font-size: 0.8em; letter-spacing: 1px\">\n",
       "        <textPath xlink:href=\"#arrow-4ffc6081062147a191a63f1d8fa7a1f1-0-2\" class=\"displacy-label\" startOffset=\"50%\" side=\"left\" fill=\"currentColor\" text-anchor=\"middle\">case</textPath>\n",
       "    </text>\n",
       "    <path class=\"displacy-arrowhead\" d=\"M595,179.0 L587,167.0 603,167.0\" fill=\"currentColor\"/>\n",
       "</g>\n",
       "\n",
       "<g class=\"displacy-arrow\">\n",
       "    <path class=\"displacy-arc\" id=\"arrow-4ffc6081062147a191a63f1d8fa7a1f1-0-3\" stroke-width=\"2px\" d=\"M420,177.0 C420,2.0 750.0,2.0 750.0,177.0\" fill=\"none\" stroke=\"currentColor\"/>\n",
       "    <text dy=\"1.25em\" style=\"font-size: 0.8em; letter-spacing: 1px\">\n",
       "        <textPath xlink:href=\"#arrow-4ffc6081062147a191a63f1d8fa7a1f1-0-3\" class=\"displacy-label\" startOffset=\"50%\" side=\"left\" fill=\"currentColor\" text-anchor=\"middle\">obl</textPath>\n",
       "    </text>\n",
       "    <path class=\"displacy-arrowhead\" d=\"M750.0,179.0 L758.0,167.0 742.0,167.0\" fill=\"currentColor\"/>\n",
       "</g>\n",
       "</svg></span>"
      ],
      "text/plain": [
       "<IPython.core.display.HTML object>"
      ]
     },
     "metadata": {},
     "output_type": "display_data"
    }
   ],
   "source": [
    "import spacy\n",
    "from spacy import displacy\n",
    "\n",
    "nlp = spacy.load(\"pt_core_news_sm\")\n",
    "frase = \"O cachorro correu no parque.\"\n",
    "doc = nlp(frase)\n",
    "\n",
    "displacy.render(doc, style='dep', jupyter=True)"
   ]
  },
  {
   "cell_type": "markdown",
   "metadata": {
    "id": "kD06o8cD40PQ"
   },
   "source": [
    "### Exemplo 04 - Ontologia"
   ]
  },
  {
   "cell_type": "code",
   "execution_count": null,
   "metadata": {
    "colab": {
     "base_uri": "https://localhost:8080/"
    },
    "executionInfo": {
     "elapsed": 55202,
     "status": "ok",
     "timestamp": 1743201277942,
     "user": {
      "displayName": "Lucas Martins",
      "userId": "08742951645617950199"
     },
     "user_tz": 180
    },
    "id": "PJB773GF44RT",
    "outputId": "7f7dfa2f-27b1-4ebf-edb0-9a9f9e1889f0"
   },
   "outputs": [
    {
     "name": "stdout",
     "output_type": "stream",
     "text": [
      "Collecting owlready2\n",
      "  Downloading owlready2-0.47.tar.gz (27.3 MB)\n",
      "\u001b[2K     \u001b[90m━━━━━━━━━━━━━━━━━━━━━━━━━━━━━━━━━━━━━━━━\u001b[0m \u001b[32m27.3/27.3 MB\u001b[0m \u001b[31m54.9 MB/s\u001b[0m eta \u001b[36m0:00:00\u001b[0m\n",
      "\u001b[?25h  Installing build dependencies ... \u001b[?25l\u001b[?25hdone\n",
      "  Getting requirements to build wheel ... \u001b[?25l\u001b[?25hdone\n",
      "  Preparing metadata (pyproject.toml) ... \u001b[?25l\u001b[?25hdone\n",
      "Building wheels for collected packages: owlready2\n",
      "  Building wheel for owlready2 (pyproject.toml) ... \u001b[?25l\u001b[?25hdone\n",
      "  Created wheel for owlready2: filename=owlready2-0.47-cp311-cp311-linux_x86_64.whl size=24577500 sha256=6e0772925d29c18375720282bf4a7b246b838423aa4c4c14a7b9bfdc1e8d3738\n",
      "  Stored in directory: /root/.cache/pip/wheels/25/9a/a3/fb1ac6339caa859c8bb18d685736168b0b51d851af13d81d52\n",
      "Successfully built owlready2\n",
      "Installing collected packages: owlready2\n",
      "Successfully installed owlready2-0.47\n"
     ]
    }
   ],
   "source": [
    "!pip install owlready2"
   ]
  },
  {
   "cell_type": "code",
   "execution_count": null,
   "metadata": {
    "id": "2kPJbpIl5BPG"
   },
   "outputs": [],
   "source": [
    "from owlready2 import *\n",
    "\n",
    "onto = get_ontology(\"http://exemplo.com/minha_ontologia.owl\")\n",
    "\n",
    "with onto:\n",
    "  class Animal(Thing): pass\n",
    "  class Mamifero(Animal): pass\n",
    "  class Cachorro(Mamifero): pass\n",
    "  class Gato(Mamifero): pass\n",
    "\n",
    "onto.save(\"minha_ontologia.owl\")"
   ]
  },
  {
   "cell_type": "markdown",
   "metadata": {
    "id": "GZ38aLM85wTF"
   },
   "source": [
    "### Estudo de Caso 01 - Aplicação de Análise Semântica em um Corpus"
   ]
  },
  {
   "cell_type": "code",
   "execution_count": null,
   "metadata": {
    "id": "kkQKkqq757Qs"
   },
   "outputs": [],
   "source": [
    "import spacy\n",
    "import nltk\n",
    "import pandas as pd\n",
    "\n",
    "from nltk.corpus import wordnet as wn"
   ]
  },
  {
   "cell_type": "code",
   "execution_count": null,
   "metadata": {
    "colab": {
     "base_uri": "https://localhost:8080/"
    },
    "executionInfo": {
     "elapsed": 1449,
     "status": "ok",
     "timestamp": 1743201593247,
     "user": {
      "displayName": "Lucas Martins",
      "userId": "08742951645617950199"
     },
     "user_tz": 180
    },
    "id": "u9BYSc5P6ISt",
    "outputId": "02178f84-e194-41e0-e791-f2f8d0666f0a"
   },
   "outputs": [
    {
     "name": "stderr",
     "output_type": "stream",
     "text": [
      "[nltk_data] Downloading package wordnet to /root/nltk_data...\n",
      "[nltk_data]   Package wordnet is already up-to-date!\n",
      "[nltk_data] Downloading package omw-1.4 to /root/nltk_data...\n",
      "[nltk_data]   Package omw-1.4 is already up-to-date!\n"
     ]
    }
   ],
   "source": [
    "nltk.download('wordnet')\n",
    "nltk.download('omw-1.4')\n",
    "\n",
    "nlp = spacy.load(\"en_core_web_sm\")"
   ]
  },
  {
   "cell_type": "code",
   "execution_count": null,
   "metadata": {
    "colab": {
     "base_uri": "https://localhost:8080/"
    },
    "executionInfo": {
     "elapsed": 43,
     "status": "ok",
     "timestamp": 1743202124124,
     "user": {
      "displayName": "Lucas Martins",
      "userId": "08742951645617950199"
     },
     "user_tz": 180
    },
    "id": "TOVV_Jb164Yx",
    "outputId": "9737345a-d171-4482-b821-5702266ebbc5"
   },
   "outputs": [
    {
     "name": "stdout",
     "output_type": "stream",
     "text": [
      "\n",
      " Análise Sintática:\n",
      "      Token Pos-tag Dependência Cabeça da Dep\n",
      "0     Apple   PROPN       nsubj       looking\n",
      "1        is     AUX         aux       looking\n",
      "2   looking    VERB        ROOT       looking\n",
      "3        at     ADP        prep       looking\n",
      "4    buying    VERB       pcomp            at\n",
      "5      U.K.   PROPN       nsubj       startup\n",
      "6   startup    VERB       ccomp        buying\n",
      "7       for     ADP        prep       startup\n",
      "8         $     SYM    quantmod       billion\n",
      "9         1     NUM    compound       billion\n",
      "10  billion     NUM        pobj           for\n",
      "11        .   PUNCT       punct       looking\n",
      "12    Steve   PROPN    compound          Jobs\n",
      "13     Jobs   PROPN       nsubj       founded\n",
      "14  founded    VERB        ROOT       founded\n",
      "15        A    PRON        dobj       founded\n"
     ]
    }
   ],
   "source": [
    "text = \"Apple is looking at buying U.K. startup for $1 billion. Steve Jobs founded A\"\n",
    "\n",
    "doc = nlp(text)\n",
    "syntatic_data = []\n",
    "\n",
    "for token in doc:\n",
    "  syntatic_data.append({\n",
    "      \"Token\": token.text,\n",
    "      \"Pos-tag\": token.pos_,\n",
    "      \"Dependência\": token.dep_,\n",
    "      \"Cabeça da Dep\": token.head.text\n",
    "  })\n",
    "\n",
    "df_syntactic = pd.DataFrame(syntatic_data)\n",
    "print(\"\\n Análise Sintática:\")\n",
    "print(df_syntactic)"
   ]
  },
  {
   "cell_type": "code",
   "execution_count": null,
   "metadata": {
    "colab": {
     "base_uri": "https://localhost:8080/"
    },
    "executionInfo": {
     "elapsed": 11,
     "status": "ok",
     "timestamp": 1743202284863,
     "user": {
      "displayName": "Lucas Martins",
      "userId": "08742951645617950199"
     },
     "user_tz": 180
    },
    "id": "n4bK8AcJ8edI",
    "outputId": "099edb56-7647-41ad-b319-790d2b20402c"
   },
   "outputs": [
    {
     "name": "stdout",
     "output_type": "stream",
     "text": [
      "\n",
      " Reconhecimento de Entidades:\n",
      "  Entidade Tipo\n",
      "0    Apple  ORG\n",
      "\n",
      " Reconhecimento de Entidades:\n",
      "  Entidade Tipo\n",
      "0    Apple  ORG\n",
      "1     U.K.  GPE\n",
      "\n",
      " Reconhecimento de Entidades:\n",
      "     Entidade   Tipo\n",
      "0       Apple    ORG\n",
      "1        U.K.    GPE\n",
      "2  $1 billion  MONEY\n",
      "\n",
      " Reconhecimento de Entidades:\n",
      "     Entidade    Tipo\n",
      "0       Apple     ORG\n",
      "1        U.K.     GPE\n",
      "2  $1 billion   MONEY\n",
      "3  Steve Jobs  PERSON\n"
     ]
    }
   ],
   "source": [
    "entities_data = []\n",
    "\n",
    "for ent in doc.ents:\n",
    "  entities_data.append({\n",
    "      \"Entidade\": ent.text,\n",
    "      \"Tipo\": ent.label_\n",
    "  })\n",
    "\n",
    "  df_entities = pd.DataFrame(entities_data)\n",
    "  print(\"\\n Reconhecimento de Entidades:\")\n",
    "  print(df_entities)"
   ]
  },
  {
   "cell_type": "code",
   "execution_count": null,
   "metadata": {
    "colab": {
     "base_uri": "https://localhost:8080/"
    },
    "executionInfo": {
     "elapsed": 44,
     "status": "ok",
     "timestamp": 1743202484228,
     "user": {
      "displayName": "Lucas Martins",
      "userId": "08742951645617950199"
     },
     "user_tz": 180
    },
    "id": "c-JHWMuo9BFs",
    "outputId": "1ba7f498-4aec-40a4-f9cb-256363672beb"
   },
   "outputs": [
    {
     "name": "stdout",
     "output_type": "stream",
     "text": [
      "\n",
      " Análise Semântica:\n",
      "    Palavra                                        Significado  \\\n",
      "0     Apple  fruit with red or yellow or green skin and swe...   \n",
      "1        is  have the quality of being; (copula, used with ...   \n",
      "2   looking  the act of directing the eyes toward something...   \n",
      "3        at  a highly unstable radioactive element (the hea...   \n",
      "4    buying                                  the act of buying   \n",
      "5      U.K.  a monarchy in northwestern Europe occupying mo...   \n",
      "6   startup                    the act of setting in operation   \n",
      "7         1  the smallest whole number or a numeral represe...   \n",
      "8   billion  the number that is represented as a one follow...   \n",
      "9      Jobs  the principal activity in your life that you d...   \n",
      "10  founded                                    set up or found   \n",
      "11        A  a metric unit of length equal to one ten billi...   \n",
      "\n",
      "                                              Exemplo  \n",
      "0                                                  []  \n",
      "1           [John is rich, This is not a good answer]  \n",
      "2   [he went out to have a look, his look was fixe...  \n",
      "3                                                  []  \n",
      "4   [buying and selling fill their days, shrewd pu...  \n",
      "5                                                  []  \n",
      "6     [repeated shutdowns and startups are expensive]  \n",
      "7   [he has the one but will need a two and three ...  \n",
      "8                                                  []  \n",
      "9                   [he's not in my line of business]  \n",
      "10                    [She set up a literacy program]  \n",
      "11                                                 []  \n"
     ]
    }
   ],
   "source": [
    "semantic_data  = []\n",
    "\n",
    "for token in doc:\n",
    "  synsets = wn.synsets(token.text)\n",
    "  if synsets:\n",
    "    semantic_data.append({\n",
    "        \"Palavra\": token.text,\n",
    "        \"Significado\": synsets[0].definition(),\n",
    "        \"Exemplo\": synsets[0].examples()\n",
    "    })\n",
    "\n",
    "df_semantic = pd.DataFrame(semantic_data)\n",
    "print(\"\\n Análise Semântica:\")\n",
    "print(df_semantic)"
   ]
  }
 ],
 "metadata": {
  "colab": {
   "authorship_tag": "ABX9TyMnAQUsuehmiLUXW6RW7srv",
   "provenance": []
  },
  "kernelspec": {
   "display_name": "Python 3",
   "name": "python3"
  },
  "language_info": {
   "name": "python"
  }
 },
 "nbformat": 4,
 "nbformat_minor": 0
}
