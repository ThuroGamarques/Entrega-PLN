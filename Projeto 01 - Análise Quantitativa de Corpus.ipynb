{
 "cells": [
  {
   "cell_type": "markdown",
   "metadata": {
    "id": "R459dbcT0o7v"
   },
   "source": [
    "# **Projeto 01** - Análise Quantitativa de Corpus\n",
    "\n",
    "- Apresentar noções básicas sobre o que é e como se usa um corpus de dados linguísticos\n",
    "- Criar estruturas simples para limpeza e análise de corpora    \n",
    "   \n",
    "- Usar técnicas de mineração de dados e extração da informação, como cálculos de relevância de palavras\n",
    "- Além de implementar esses métodos em Python, levantar elementos que permitam discutir criticamente os resultados obtidos."
   ]
  },
  {
   "cell_type": "markdown",
   "metadata": {
    "id": "FqIH-OdE0qFO"
   },
   "source": [
    "## Início do Processamento do Corpus"
   ]
  },
  {
   "cell_type": "code",
   "execution_count": 1,
   "metadata": {
    "executionInfo": {
     "elapsed": 11,
     "status": "ok",
     "timestamp": 1743200128959,
     "user": {
      "displayName": "Lucas Martins",
      "userId": "08742951645617950199"
     },
     "user_tz": 180
    },
    "id": "ZMVW20Ds0r95"
   },
   "outputs": [],
   "source": [
    "# criar uma função para fazer a abertura e leitura do arquivo\n",
    "def ler(nome_arquivo):\n",
    "  arquivo = open(nome_arquivo,'r', encoding='utf-8')\n",
    "  conteudo_arq = arquivo.read()\n",
    "  arquivo.close()\n",
    "  return conteudo_arq"
   ]
  },
  {
   "cell_type": "code",
   "execution_count": 3,
   "metadata": {
    "colab": {
     "base_uri": "https://localhost:8080/"
    },
    "executionInfo": {
     "elapsed": 373,
     "status": "ok",
     "timestamp": 1743200197959,
     "user": {
      "displayName": "Lucas Martins",
      "userId": "08742951645617950199"
     },
     "user_tz": 180
    },
    "id": "0OT8x4da0uQU",
    "outputId": "75df5e1a-fdb6-4c4d-f1e8-11bd54c259cd"
   },
   "outputs": [
    {
     "name": "stdout",
     "output_type": "stream",
     "text": [
      "219835\n"
     ]
    }
   ],
   "source": [
    "texto = ler('/content/drive/MyDrive/Colab Notebooks/2025.05 Ubirajara.txt')\n",
    "print(len(texto))"
   ]
  },
  {
   "cell_type": "markdown",
   "metadata": {
    "id": "AIDdFujL1Epc"
   },
   "source": [
    "## Primeira Etapa - Buscador de Palavras"
   ]
  },
  {
   "cell_type": "code",
   "execution_count": 4,
   "metadata": {
    "executionInfo": {
     "elapsed": 44,
     "status": "ok",
     "timestamp": 1743200217671,
     "user": {
      "displayName": "Lucas Martins",
      "userId": "08742951645617950199"
     },
     "user_tz": 180
    },
    "id": "kTSPgC7K1FVJ"
   },
   "outputs": [],
   "source": [
    "def buscador(alvo, texto):\n",
    "  texto = texto.replace('\\n', ' ')\n",
    "  texto = texto.replace('\\t', ' ')\n",
    "\n",
    "  ocorrencias = []\n",
    "\n",
    "  encontrado_aqui = texto.find(alvo, 0)\n",
    "    #Se encontra a palavra, informa a posição\n",
    "    #SE não encontrar, informa -1\n",
    "\n",
    "  while encontrado_aqui > 0:\n",
    "    pos_inicial = encontrado_aqui - (40 - len(alvo))\n",
    "    trecho = texto[pos_inicial: pos_inicial + 80]\n",
    "\n",
    "    ocorrencias.append(trecho)\n",
    "\n",
    "    encontrado_aqui = texto.find(alvo, encontrado_aqui + 1)\n",
    "\n",
    "    # inicia a busca a partir da posição anterior + 1\n",
    "    #Se encontra a palavra, informa a posição\n",
    "    #SE não encontrar, informa -1\n",
    "\n",
    "  return ocorrencias"
   ]
  },
  {
   "cell_type": "code",
   "execution_count": 5,
   "metadata": {
    "colab": {
     "base_uri": "https://localhost:8080/"
    },
    "executionInfo": {
     "elapsed": 15,
     "status": "ok",
     "timestamp": 1743200223270,
     "user": {
      "displayName": "Lucas Martins",
      "userId": "08742951645617950199"
     },
     "user_tz": 180
    },
    "id": "fh0qxvgf1HI-",
    "outputId": "00c86989-721f-4f1a-a019-7e35f15623af"
   },
   "outputs": [
    {
     "name": "stdout",
     "output_type": "stream",
     "text": [
      "i o chefe tocantim quem recebeu no peito a ponta farpada.  Quando o corpo robust\n",
      " se tua arma traiçoeira me feriu o peito, o suplicio não vencerá a constancia do\n",
      "java falar; todos escutaram com respeito o heróe, ainda maior na desgraça.  --Gu\n",
      "ança, escrava de Jaguarê, cravou o peito do inimigo.  «Elle caiu, o guerreiro ch\n",
      "O labio de Jandira emudeceu; mas o peito soluçou.  A virjem conheceu que o amor \n",
      " todos dignos de teu valor. Nestes peitos, que te pertencem, ella os nutrirá com\n",
      "ndos que os botões do cardo por um peito feroz, e as mãos lijeiras que tecem os \n",
      " o acolher, todos o escutam com respeito.  «Em suas palavras prudentes, os anciã\n",
      "não quando elle não chupa mais seu peito. Ella é como a mangabeira; nutre o frut\n",
      "ente do Xingú.  As arvores que seu peito encontrava caíam lascadas.  Jurandir es\n",
      "e. Os noivos cuidavam que era a do peito do tucano; mas ella sabia que era do pe\n",
      " tucano; mas ella sabia que era do peito da arára e que tinha as côres de seu gu\n",
      "os arredores. Nada encontrou de suspeito; o rasto, que o inquietava, não chegára\n",
      "amor, e quando o leite encher seus peitos mimozos, para que ella suspenda ao col\n",
      " O grande chefe vergou a cabeça ao peito, como o cedro altaneiro batido pelo tuf\n",
      "re a cabeça de Arací:  --Itaquê respeitou a lei de hospitalidade no corpo de Ubi\n",
      "as o grito de espanto sossobrou no peito dos guerreiros, e rompeu em um grito de\n",
      "o velho guerreiro sossobrou-lhe no peito:  --O arco de Itaquê é como o gavião qu\n",
      "s do guerreiro quando se cruzam ao peito para exprimir a amizade.  Ubirajara apa\n",
      "eu guerreiro.  Ubirajara cinjiu ao peito com um e outro braço, a espoza e a virj\n",
      "336.  Póde-se ler tambem a este respeito o que diz Gabriel Soares, cit. no cap. \n",
      "abriel Soares se exprime a este respeito no cap. 152: «E como o marido lhe leva \n",
      "ilizada se observa tão profundo respeito pela união conjugal, a ponto de não con\n",
      ". VIII, que a liga vermelha e o respeito que ella inspirava indicassem guarda da\n",
      " como sua extensão, dependia do respeito que elle conseguia infundir a seus guer\n",
      "quelles sacerdotes, cercados do respeito dos guerreiros, fortes pelo prestijio d\n",
      "lações do seu culto.  Tal era o respeito que o selvajem professava pela dignidad\n",
      "sseio. Ives d'Evreux diz a este respeito: «Ils sont fort soigneux de tenir leur \n",
      "vel e _nheng_ falar.--Veja-se a respeito dos cantores, _nhengara_, o que se diss\n"
     ]
    }
   ],
   "source": [
    "resultados = buscador('peito', texto)\n",
    "\n",
    "for trecho in resultados:\n",
    "  print(trecho)"
   ]
  },
  {
   "cell_type": "markdown",
   "metadata": {
    "id": "h_DnHOks1Ker"
   },
   "source": [
    "## Segunda Etapa - Limpeza dos Corpus"
   ]
  },
  {
   "cell_type": "code",
   "execution_count": 6,
   "metadata": {
    "executionInfo": {
     "elapsed": 5,
     "status": "ok",
     "timestamp": 1743200245113,
     "user": {
      "displayName": "Lucas Martins",
      "userId": "08742951645617950199"
     },
     "user_tz": 180
    },
    "id": "QmjZ2WW_1LbZ"
   },
   "outputs": [],
   "source": [
    "palavras = texto.split()"
   ]
  },
  {
   "cell_type": "code",
   "execution_count": 7,
   "metadata": {
    "executionInfo": {
     "elapsed": 5,
     "status": "ok",
     "timestamp": 1743200245704,
     "user": {
      "displayName": "Lucas Martins",
      "userId": "08742951645617950199"
     },
     "user_tz": 180
    },
    "id": "onDVNo3k1M8R"
   },
   "outputs": [],
   "source": [
    "def limpar(lista):\n",
    "  lixo = '.,:;?!\"´`^~()[]{}/\\|@#$%¨&*-'\n",
    "  quase_limpo = [x.strip(lixo).lower() for x in lista]\n",
    "  return [x for x in quase_limpo if x.isalpha() or '-' not in x]"
   ]
  },
  {
   "cell_type": "code",
   "execution_count": 8,
   "metadata": {
    "colab": {
     "base_uri": "https://localhost:8080/"
    },
    "executionInfo": {
     "elapsed": 14,
     "status": "ok",
     "timestamp": 1743200250205,
     "user": {
      "displayName": "Lucas Martins",
      "userId": "08742951645617950199"
     },
     "user_tz": 180
    },
    "id": "EHEDr7TF1OSZ",
    "outputId": "0f84df62-a63c-4eac-fa2c-1911a6c7d146"
   },
   "outputs": [
    {
     "name": "stdout",
     "output_type": "stream",
     "text": [
      "['Corre-se', 'atrás', 'do', 'carro,', 'corre', 'se', 'o', 'carro', 'for', 'embora.']\n"
     ]
    }
   ],
   "source": [
    "teste = \"Corre-se atrás do carro, corre se o carro for embora.\"\n",
    "word = teste.split()\n",
    "print(word)"
   ]
  },
  {
   "cell_type": "code",
   "execution_count": 9,
   "metadata": {
    "colab": {
     "base_uri": "https://localhost:8080/"
    },
    "executionInfo": {
     "elapsed": 5,
     "status": "ok",
     "timestamp": 1743200255272,
     "user": {
      "displayName": "Lucas Martins",
      "userId": "08742951645617950199"
     },
     "user_tz": 180
    },
    "id": "vl-HJXGJ1Pe-",
    "outputId": "468b8632-08c6-4e9e-f74a-491030ae905b"
   },
   "outputs": [
    {
     "name": "stdout",
     "output_type": "stream",
     "text": [
      "['atrás', 'do', 'carro', 'corre', 'se', 'o', 'carro', 'for', 'embora']\n"
     ]
    }
   ],
   "source": [
    "print(limpar(word))"
   ]
  },
  {
   "cell_type": "code",
   "execution_count": 10,
   "metadata": {
    "colab": {
     "base_uri": "https://localhost:8080/"
    },
    "executionInfo": {
     "elapsed": 14,
     "status": "ok",
     "timestamp": 1743200259827,
     "user": {
      "displayName": "Lucas Martins",
      "userId": "08742951645617950199"
     },
     "user_tz": 180
    },
    "id": "dD_b5Zd91QcZ",
    "outputId": "3c6d93d7-3d4d-4b51-da57-c372d5699ca2"
   },
   "outputs": [
    {
     "name": "stdout",
     "output_type": "stream",
     "text": [
      "37139\n",
      "36585\n"
     ]
    }
   ],
   "source": [
    "print(len(palavras))\n",
    "palavras = limpar(palavras)\n",
    "print(len(palavras))"
   ]
  },
  {
   "cell_type": "markdown",
   "metadata": {
    "id": "jXj9TmBK1SDx"
   },
   "source": [
    "Descrevendo os métodos utilizados na limpeza:\n",
    "* split() - transformar um texto, em uma lista de palavras\n",
    "* strip() - eliminar sinais ou caracteres no começo ou no fim de uma palavras\n",
    "* isalpha - realizar um filtro eliminando números ou simbolos de uma lista de referência"
   ]
  },
  {
   "cell_type": "markdown",
   "metadata": {
    "id": "auK5DIcT1Tmq"
   },
   "source": [
    "## Terceira Etapa - Quantidade de Palavras\n",
    "1. Quantifica as palavras\n",
    "2. Classificação de ocorrências"
   ]
  },
  {
   "cell_type": "code",
   "execution_count": 11,
   "metadata": {
    "colab": {
     "base_uri": "https://localhost:8080/"
    },
    "executionInfo": {
     "elapsed": 11,
     "status": "ok",
     "timestamp": 1743200283313,
     "user": {
      "displayName": "Lucas Martins",
      "userId": "08742951645617950199"
     },
     "user_tz": 180
    },
    "id": "jHesAcpd1UiO",
    "outputId": "f70e72b0-adbe-4227-a4c3-04f6a19f8339"
   },
   "outputs": [
    {
     "data": {
      "text/plain": [
       "6902"
      ]
     },
     "execution_count": 11,
     "metadata": {},
     "output_type": "execute_result"
    }
   ],
   "source": [
    "# Conhecer a quantidade de palavras e vocabulário\n",
    "vocabulario = set(palavras)\n",
    "len(vocabulario)"
   ]
  },
  {
   "cell_type": "code",
   "execution_count": 12,
   "metadata": {
    "colab": {
     "base_uri": "https://localhost:8080/"
    },
    "executionInfo": {
     "elapsed": 13,
     "status": "ok",
     "timestamp": 1743200288400,
     "user": {
      "displayName": "Lucas Martins",
      "userId": "08742951645617950199"
     },
     "user_tz": 180
    },
    "id": "HlUh-zfY1XXx",
    "outputId": "1cc733ee-ee94-4697-95af-3ef52ebafab0"
   },
   "outputs": [
    {
     "data": {
      "text/plain": [
       "0.188656553232199"
      ]
     },
     "execution_count": 12,
     "metadata": {},
     "output_type": "execute_result"
    }
   ],
   "source": [
    "# calculando a riqueza textual do corpus\n",
    "riqueza = len(vocabulario) / len(palavras) # 6902 / 36585\n",
    "riqueza"
   ]
  },
  {
   "cell_type": "code",
   "execution_count": 13,
   "metadata": {
    "executionInfo": {
     "elapsed": 2,
     "status": "ok",
     "timestamp": 1743200300110,
     "user": {
      "displayName": "Lucas Martins",
      "userId": "08742951645617950199"
     },
     "user_tz": 180
    },
    "id": "zftrdvCp1aW4"
   },
   "outputs": [],
   "source": [
    "# Criar um dicionário deste texto\n",
    "from collections import defaultdict\n",
    "\n",
    "def ocorrencias(lista_palavras):\n",
    "  dicionario = defaultdict(int)\n",
    "  for p in lista_palavras:\n",
    "    dicionario[p] += 1\n",
    "\n",
    "  return dicionario"
   ]
  },
  {
   "cell_type": "code",
   "execution_count": 14,
   "metadata": {
    "colab": {
     "base_uri": "https://localhost:8080/"
    },
    "executionInfo": {
     "elapsed": 11,
     "status": "ok",
     "timestamp": 1743200324964,
     "user": {
      "displayName": "Lucas Martins",
      "userId": "08742951645617950199"
     },
     "user_tz": 180
    },
    "id": "FWwWkHOk1bZz",
    "outputId": "63386477-1090-45cc-fdf9-0db2891daa93"
   },
   "outputs": [
    {
     "name": "stdout",
     "output_type": "stream",
     "text": [
      "a \t 1491\n",
      "o \t 1398\n",
      "de \t 1199\n",
      "que \t 1119\n",
      "e \t 918\n",
      "do \t 685\n",
      "da \t 624\n",
      "os \t 496\n",
      "para \t 347\n",
      "não \t 340\n",
      "dos \t 327\n",
      "se \t 295\n",
      "as \t 266\n",
      "como \t 243\n",
      "guerreiro \t 238\n",
      "um \t 229\n",
      "seu \t 215\n",
      "em \t 213\n",
      "na \t 205\n",
      "mais \t 205\n",
      "é \t 200\n",
      "sua \t 197\n",
      "no \t 195\n",
      "com \t 195\n",
      "ao \t 190\n",
      " \t 189\n",
      "the \t 187\n",
      "á \t 186\n",
      "chefe \t 175\n",
      "ubirajara \t 174\n",
      "guerreiros \t 171\n",
      "uma \t 165\n",
      "por \t 158\n",
      "grande \t 155\n",
      "elle \t 152\n",
      "mas \t 140\n",
      "nação \t 129\n",
      "quando \t 125\n",
      "of \t 122\n",
      "das \t 115\n",
      "era \t 113\n",
      "itaquê \t 113\n",
      "seus \t 98\n",
      "pela \t 93\n",
      "virjem \t 91\n",
      "espoza \t 87\n",
      "arací \t 87\n",
      "paj \t 86\n",
      "project \t 83\n",
      "to \t 82\n"
     ]
    }
   ],
   "source": [
    "dic = ocorrencias(palavras)\n",
    "mf = sorted(dic.items(), key=lambda tupla:tupla[1],reverse=True)[:50]\n",
    "for palavra, n in mf:\n",
    "  print(palavra,'\\t',n)"
   ]
  },
  {
   "cell_type": "code",
   "execution_count": null,
   "metadata": {
    "id": "5mKgOfLX1qyS"
   },
   "outputs": [],
   "source": [
    "dic\n",
    "tupla([0],[1])"
   ]
  },
  {
   "cell_type": "code",
   "execution_count": 18,
   "metadata": {
    "colab": {
     "base_uri": "https://localhost:8080/"
    },
    "executionInfo": {
     "elapsed": 6819,
     "status": "ok",
     "timestamp": 1743200349294,
     "user": {
      "displayName": "Lucas Martins",
      "userId": "08742951645617950199"
     },
     "user_tz": 180
    },
    "id": "YbLVnJKk1kvX",
    "outputId": "bb1b684d-a4f7-4981-df35-d0b640a73731"
   },
   "outputs": [
    {
     "name": "stderr",
     "output_type": "stream",
     "text": [
      "[nltk_data] Downloading package stopwords to /root/nltk_data...\n",
      "[nltk_data]   Unzipping corpora/stopwords.zip.\n"
     ]
    }
   ],
   "source": [
    "import nltk\n",
    "nltk.download('stopwords')\n",
    "vazias = nltk.corpus.stopwords.words('portuguese')"
   ]
  },
  {
   "cell_type": "code",
   "execution_count": 19,
   "metadata": {
    "colab": {
     "base_uri": "https://localhost:8080/"
    },
    "executionInfo": {
     "elapsed": 11,
     "status": "ok",
     "timestamp": 1743200350725,
     "user": {
      "displayName": "Lucas Martins",
      "userId": "08742951645617950199"
     },
     "user_tz": 180
    },
    "id": "UIW5NIx71mba",
    "outputId": "35714b97-dcb6-4d53-8c2a-2fe2b0da92ec"
   },
   "outputs": [
    {
     "data": {
      "text/plain": [
       "[('guerreiro', 238),\n",
       " ('', 189),\n",
       " ('the', 187),\n",
       " ('á', 186),\n",
       " ('chefe', 175),\n",
       " ('ubirajara', 174),\n",
       " ('guerreiros', 171),\n",
       " ('grande', 155),\n",
       " ('elle', 152),\n",
       " ('nação', 129),\n",
       " ('of', 122),\n",
       " ('itaquê', 113),\n",
       " ('virjem', 91),\n",
       " ('espoza', 87),\n",
       " ('arací', 87),\n",
       " ('paj', 86),\n",
       " ('project', 83),\n",
       " ('to', 82)]"
      ]
     },
     "execution_count": 19,
     "metadata": {},
     "output_type": "execute_result"
    }
   ],
   "source": [
    "frequentes_plenas = [x for x in mf if x[0].lower() not in vazias]\n",
    "frequentes_plenas"
   ]
  }
 ],
 "metadata": {
  "colab": {
   "authorship_tag": "ABX9TyNiGoQpS9Jn9Y8MofRB+HyM",
   "mount_file_id": "1MbyjP7AGE4mmZj7voO6j6YYrtm-YYBCX",
   "provenance": []
  },
  "kernelspec": {
   "display_name": "Python 3",
   "name": "python3"
  },
  "language_info": {
   "name": "python"
  }
 },
 "nbformat": 4,
 "nbformat_minor": 0
}
