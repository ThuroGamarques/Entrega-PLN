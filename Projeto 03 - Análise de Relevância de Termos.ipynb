{
 "cells": [
  {
   "cell_type": "markdown",
   "metadata": {
    "id": "NOA0cxVyZ-lT"
   },
   "source": [
    "# **Projeto 03** - Analise de relevância de termos"
   ]
  },
  {
   "cell_type": "markdown",
   "metadata": {
    "id": "KM0imTn4aLd9"
   },
   "source": [
    "### Primeira Etapa - Carregamento de Arquivos"
   ]
  },
  {
   "cell_type": "code",
   "execution_count": 1,
   "metadata": {
    "colab": {
     "base_uri": "https://localhost:8080/"
    },
    "executionInfo": {
     "elapsed": 14418,
     "status": "ok",
     "timestamp": 1744384583463,
     "user": {
      "displayName": "Lucas Martins",
      "userId": "08742951645617950199"
     },
     "user_tz": 180
    },
    "id": "uB-V-AUMab-t",
    "outputId": "5fc8a5e8-2e48-486f-b6b5-63c698c01a27"
   },
   "outputs": [
    {
     "name": "stderr",
     "output_type": "stream",
     "text": [
      "[nltk_data] Downloading package machado to /root/nltk_data...\n"
     ]
    },
    {
     "name": "stdout",
     "output_type": "stream",
     "text": [
      "Arquivo /root/nltk_data/corpora/machado.zip extraido com sucesso na pasta /root/nltk_data/corpora/\n"
     ]
    }
   ],
   "source": [
    "import nltk\n",
    "import os\n",
    "import zipfile\n",
    "from nltk.corpus import machado\n",
    "\n",
    "nltk.download('machado')\n",
    "\n",
    "caminho_do_zip = '/root/nltk_data/corpora/machado.zip'\n",
    "pasta_destino = '/root/nltk_data/corpora/'\n",
    "os.makedirs(pasta_destino, exist_ok=True)\n",
    "\n",
    "arquivo_zip = zipfile.ZipFile(caminho_do_zip, 'r')\n",
    "arquivo_zip.extractall(pasta_destino)\n",
    "\n",
    "print(f\"Arquivo {caminho_do_zip} extraido com sucesso na pasta {pasta_destino}\")"
   ]
  },
  {
   "cell_type": "markdown",
   "metadata": {
    "id": "8yWrPJXBbGvs"
   },
   "source": [
    "### Segunda Etapa - Limpeza e Preparação do Arquivo"
   ]
  },
  {
   "cell_type": "code",
   "execution_count": 6,
   "metadata": {
    "executionInfo": {
     "elapsed": 6,
     "status": "ok",
     "timestamp": 1744385083747,
     "user": {
      "displayName": "Lucas Martins",
      "userId": "08742951645617950199"
     },
     "user_tz": 180
    },
    "id": "WtfQvsE-bUE0"
   },
   "outputs": [],
   "source": [
    "def ler(nome_arquivo):\n",
    "  arquivo = open(nome_arquivo,'r', encoding='ISO-8859-1')\n",
    "  conteudo_arq = arquivo.read()\n",
    "  arquivo.close()\n",
    "  return conteudo_arq"
   ]
  },
  {
   "cell_type": "code",
   "execution_count": 7,
   "metadata": {
    "executionInfo": {
     "elapsed": 9,
     "status": "ok",
     "timestamp": 1744385084709,
     "user": {
      "displayName": "Lucas Martins",
      "userId": "08742951645617950199"
     },
     "user_tz": 180
    },
    "id": "4D70AEL4bmcL"
   },
   "outputs": [],
   "source": [
    "def limpar(lista):\n",
    "  lixo = ',.;:?!\"`´^~()[]{}\\/|@#$%¨&*-'\n",
    "  quase_limpo = [x.strip(lixo).lower() for x in lista]\n",
    "  return [x for x  in quase_limpo if x.isalpha() or '-' not in x]"
   ]
  },
  {
   "cell_type": "code",
   "execution_count": 8,
   "metadata": {
    "colab": {
     "base_uri": "https://localhost:8080/"
    },
    "executionInfo": {
     "elapsed": 109,
     "status": "ok",
     "timestamp": 1744385085485,
     "user": {
      "displayName": "Lucas Martins",
      "userId": "08742951645617950199"
     },
     "user_tz": 180
    },
    "id": "mx6pTdwwcTXB",
    "outputId": "42267ffc-e210-4964-983a-cd414e2cd008"
   },
   "outputs": [
    {
     "name": "stdout",
     "output_type": "stream",
     "text": [
      "/root/nltk_data/corpora/machado/cronica/macr01.txt\n",
      "/root/nltk_data/corpora/machado/cronica/macr02.txt\n",
      "/root/nltk_data/corpora/machado/cronica/macr03.txt\n",
      "/root/nltk_data/corpora/machado/cronica/macr04.txt\n",
      "/root/nltk_data/corpora/machado/cronica/macr05.txt\n",
      "/root/nltk_data/corpora/machado/cronica/macr06.txt\n",
      "/root/nltk_data/corpora/machado/cronica/macr07.txt\n",
      "/root/nltk_data/corpora/machado/cronica/macr08.txt\n",
      "/root/nltk_data/corpora/machado/cronica/macr09.txt\n"
     ]
    }
   ],
   "source": [
    "obras = []\n",
    "\n",
    "for i in range(1,10):\n",
    "  obras.append('/root/nltk_data/corpora/machado/cronica/macr0' + str(i) + '.txt')\n",
    "\n",
    "colecao = []\n",
    "\n",
    "for obra in obras:\n",
    "  print(obra)\n",
    "  texto = ler(obra)\n",
    "  palavras = limpar(texto.lower().split())\n",
    "  colecao.append(palavras)"
   ]
  },
  {
   "cell_type": "markdown",
   "metadata": {
    "id": "9MYqGX2tdCxP"
   },
   "source": [
    "### Terceira Etapa - Criação dos Cálculos"
   ]
  },
  {
   "cell_type": "code",
   "execution_count": 9,
   "metadata": {
    "executionInfo": {
     "elapsed": 11,
     "status": "ok",
     "timestamp": 1744385325264,
     "user": {
      "displayName": "Lucas Martins",
      "userId": "08742951645617950199"
     },
     "user_tz": 180
    },
    "id": "bsv2T7GbdG8r"
   },
   "outputs": [],
   "source": [
    "import math\n",
    "def tf(termo,doc):\n",
    "  return colecao[doc].count(termo)\n",
    "\n",
    "def df(termo):\n",
    "  return len([d for d in colecao if termo in d])\n",
    "\n",
    "def idf(termo):\n",
    "  return math.log10(len(colecao)/df(termo))\n",
    "\n",
    "def tf_idf(termo,doc):\n",
    "  return tf(termo,doc) * idf(termo)"
   ]
  },
  {
   "cell_type": "markdown",
   "metadata": {
    "id": "BItpURwMd87I"
   },
   "source": [
    "### Quarta Etapa - Experimentação de Cálculos"
   ]
  },
  {
   "cell_type": "code",
   "execution_count": 10,
   "metadata": {
    "colab": {
     "base_uri": "https://localhost:8080/"
    },
    "executionInfo": {
     "elapsed": 9,
     "status": "ok",
     "timestamp": 1744385364883,
     "user": {
      "displayName": "Lucas Martins",
      "userId": "08742951645617950199"
     },
     "user_tz": 180
    },
    "id": "9xYmrjHweC26",
    "outputId": "3d7ca562-19fc-4cde-f3a5-9a84c9756b1f"
   },
   "outputs": [
    {
     "data": {
      "text/plain": [
       "9"
      ]
     },
     "execution_count": 10,
     "metadata": {},
     "output_type": "execute_result"
    }
   ],
   "source": [
    "df('que')"
   ]
  },
  {
   "cell_type": "code",
   "execution_count": 11,
   "metadata": {
    "colab": {
     "base_uri": "https://localhost:8080/"
    },
    "executionInfo": {
     "elapsed": 25,
     "status": "ok",
     "timestamp": 1744385376476,
     "user": {
      "displayName": "Lucas Martins",
      "userId": "08742951645617950199"
     },
     "user_tz": 180
    },
    "id": "OUhkY9TGeF_Y",
    "outputId": "4c4c609f-c1cc-4966-850d-d6c1c1a23fc7"
   },
   "outputs": [
    {
     "data": {
      "text/plain": [
       "1"
      ]
     },
     "execution_count": 11,
     "metadata": {},
     "output_type": "execute_result"
    }
   ],
   "source": [
    "df('luva')"
   ]
  },
  {
   "cell_type": "code",
   "execution_count": 12,
   "metadata": {
    "colab": {
     "base_uri": "https://localhost:8080/"
    },
    "executionInfo": {
     "elapsed": 9,
     "status": "ok",
     "timestamp": 1744385392853,
     "user": {
      "displayName": "Lucas Martins",
      "userId": "08742951645617950199"
     },
     "user_tz": 180
    },
    "id": "wuzK_DFpeGQb",
    "outputId": "af67e7bf-517d-4833-aa66-ae8d302c6e9d"
   },
   "outputs": [
    {
     "data": {
      "text/plain": [
       "0.0"
      ]
     },
     "execution_count": 12,
     "metadata": {},
     "output_type": "execute_result"
    }
   ],
   "source": [
    "tf_idf('luva', 2)"
   ]
  },
  {
   "cell_type": "code",
   "execution_count": 13,
   "metadata": {
    "colab": {
     "base_uri": "https://localhost:8080/"
    },
    "executionInfo": {
     "elapsed": 20,
     "status": "ok",
     "timestamp": 1744385430321,
     "user": {
      "displayName": "Lucas Martins",
      "userId": "08742951645617950199"
     },
     "user_tz": 180
    },
    "id": "p-q9pQJ1eOF2",
    "outputId": "96bf94e0-19e5-4d27-d826-44ad6797b27c"
   },
   "outputs": [
    {
     "data": {
      "text/plain": [
       "0.3521825181113625"
      ]
     },
     "execution_count": 13,
     "metadata": {},
     "output_type": "execute_result"
    }
   ],
   "source": [
    "tf_idf('latim', 1)"
   ]
  },
  {
   "cell_type": "code",
   "execution_count": 14,
   "metadata": {
    "executionInfo": {
     "elapsed": 7,
     "status": "ok",
     "timestamp": 1744385524388,
     "user": {
      "displayName": "Lucas Martins",
      "userId": "08742951645617950199"
     },
     "user_tz": 180
    },
    "id": "jLzqXdVweWT1"
   },
   "outputs": [],
   "source": [
    "def relevantes(doc):\n",
    "  lista_total = [(tf_idf(p, doc), p) for p in set(colecao[doc])]\n",
    "\n",
    "  return sorted(lista_total, reverse=True)[:10]"
   ]
  },
  {
   "cell_type": "code",
   "execution_count": 15,
   "metadata": {
    "executionInfo": {
     "elapsed": 13302,
     "status": "ok",
     "timestamp": 1744385548443,
     "user": {
      "displayName": "Lucas Martins",
      "userId": "08742951645617950199"
     },
     "user_tz": 180
    },
    "id": "dAIXBc8YesiU"
   },
   "outputs": [],
   "source": [
    "mr = relevantes(1)"
   ]
  },
  {
   "cell_type": "code",
   "execution_count": 16,
   "metadata": {
    "colab": {
     "base_uri": "https://localhost:8080/"
    },
    "executionInfo": {
     "elapsed": 9,
     "status": "ok",
     "timestamp": 1744385549648,
     "user": {
      "displayName": "Lucas Martins",
      "userId": "08742951645617950199"
     },
     "user_tz": 180
    },
    "id": "PidEAlXPev1q",
    "outputId": "5cb75496-fd35-4779-b149-4bf215a5c46b"
   },
   "outputs": [
    {
     "data": {
      "text/plain": [
       "[(27.822418930797635, 'ex'),\n",
       " (17.613802852128117, 'excia'),\n",
       " (16.33031284438359, '1864'),\n",
       " (14.313637641589873, 'ablativo'),\n",
       " (13.359395132150548, 'ilustrada'),\n",
       " (12.442469514457763, 'semana'),\n",
       " (11.450910113271899, 'suplicante'),\n",
       " (11.104612734180844, 'moleque'),\n",
       " (10.496667603832574, 'ilmo'),\n",
       " (9.798187706630156, '§')]"
      ]
     },
     "execution_count": 16,
     "metadata": {},
     "output_type": "execute_result"
    }
   ],
   "source": [
    "mr"
   ]
  }
 ],
 "metadata": {
  "colab": {
   "authorship_tag": "ABX9TyPa9jmpIiVNhHq00yYvIiVn",
   "provenance": []
  },
  "kernelspec": {
   "display_name": "Python 3",
   "name": "python3"
  },
  "language_info": {
   "name": "python"
  }
 },
 "nbformat": 4,
 "nbformat_minor": 0
}
