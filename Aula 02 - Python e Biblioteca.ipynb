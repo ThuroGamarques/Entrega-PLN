{
 "cells": [
  {
   "cell_type": "markdown",
   "metadata": {
    "id": "3maYd4JwptWp"
   },
   "source": [
    "# **Aula 02** - Python e Biblioteca"
   ]
  },
  {
   "cell_type": "markdown",
   "metadata": {
    "id": "kryeVu7HqKou"
   },
   "source": [
    "## Exemplo 01 - Sintaxe Básica"
   ]
  },
  {
   "cell_type": "code",
   "execution_count": null,
   "metadata": {
    "colab": {
     "base_uri": "https://localhost:8080/"
    },
    "executionInfo": {
     "elapsed": 6,
     "status": "ok",
     "timestamp": 1742597148518,
     "user": {
      "displayName": "Lucas Martins",
      "userId": "08742951645617950199"
     },
     "user_tz": 180
    },
    "id": "A1A75Y1BqZlz",
    "outputId": "55b71d2a-760e-4263-d40a-ddd1cca07d22"
   },
   "outputs": [
    {
     "name": "stdout",
     "output_type": "stream",
     "text": [
      "Eu posso ler esta parte.\n",
      "Esta parte eu posso ler.\n"
     ]
    }
   ],
   "source": [
    "# comentário pode ser feito de duas maneiras.\n",
    "print(\"Eu posso ler esta parte.\")\n",
    "\n",
    "# usar # para comentar uma linha.\n",
    "print('Esta parte eu posso ler.')"
   ]
  },
  {
   "cell_type": "markdown",
   "metadata": {
    "id": "ajaOAVH2rfhZ"
   },
   "source": [
    "## Exemplo 02 - Atribuição de Variáveis"
   ]
  },
  {
   "cell_type": "code",
   "execution_count": null,
   "metadata": {
    "colab": {
     "base_uri": "https://localhost:8080/"
    },
    "executionInfo": {
     "elapsed": 21,
     "status": "ok",
     "timestamp": 1742597162537,
     "user": {
      "displayName": "Lucas Martins",
      "userId": "08742951645617950199"
     },
     "user_tz": 180
    },
    "id": "P2gFVTAYrne3",
    "outputId": "9ea8d921-97fc-4946-8ff6-f315890c2a4b"
   },
   "outputs": [
    {
     "name": "stdout",
     "output_type": "stream",
     "text": [
      "Existem 100 carros disponíveis.\n",
      "Existem apenas 30 motoristas disponíveis.\n",
      "Nós podemos transportar 120.0 pessoas hoje\n",
      "20.0\n",
      "3.0 + 120.0 + 30 + 4.0\n",
      "3.0 * 120.0 * 30 * 4.0\n"
     ]
    }
   ],
   "source": [
    "# tudo é tratado como objeto (armazenar 2 coisas: o que é / o valor)\n",
    "carros = 100\n",
    "# objeto = numero inteiro, valor = 100 - rótulo --> nome da variável [cars]\n",
    "espacoNoCarro = 4.0\n",
    "# valor real ou ponto flutuante\n",
    "motoristas = 30\n",
    "passageiros = 90\n",
    "carrosSemMotoristas = carros - motoristas\n",
    "carrosComMotoristas = motoristas\n",
    "capacidadeDePassageiros = carrosComMotoristas * espacoNoCarro\n",
    "mediaPassageirosPorCarro = passageiros / carrosComMotoristas\n",
    "\n",
    "print(\"Existem\", carros, \"carros disponíveis.\")\n",
    "print(f\"Existem apenas {motoristas} motoristas disponíveis.\")\n",
    "print('Nós podemos transportar {} pessoas hoje'.format(capacidadeDePassageiros))\n",
    "print(100/5)\n",
    "print(\"{} + {} + {} + {}\". format(mediaPassageirosPorCarro,capacidadeDePassageiros,carrosComMotoristas, espacoNoCarro))\n",
    "print(f\"{mediaPassageirosPorCarro} * {capacidadeDePassageiros} * {carrosComMotoristas} * {espacoNoCarro}\")\n",
    "# operações moldam o tipo de dado que vai ser apresentado\n"
   ]
  },
  {
   "cell_type": "markdown",
   "metadata": {
    "id": "JV8W_Ba4vG52"
   },
   "source": [
    "## Exemplo 03 - Entradas e Saídas\n"
   ]
  },
  {
   "cell_type": "code",
   "execution_count": null,
   "metadata": {
    "colab": {
     "base_uri": "https://localhost:8080/"
    },
    "executionInfo": {
     "elapsed": 5481,
     "status": "ok",
     "timestamp": 1740179681608,
     "user": {
      "displayName": "Lucas Martins",
      "userId": "08742951645617950199"
     },
     "user_tz": 180
    },
    "id": "e_Bn763LvRwU",
    "outputId": "5dd4e8d2-c86e-4cc2-b54c-218fb09e38a3"
   },
   "outputs": [
    {
     "name": "stdout",
     "output_type": "stream",
     "text": [
      "Quantos anos você tem?\n",
      "19\n",
      "O Lucas tem 19 anos.\n",
      "\n",
      "Qual é a sua altura: 170\n",
      "A Altura de Lucas é 170 cm.\n",
      "\n",
      "O tipo de dado da idade é <class 'str'>\n",
      "O tipo de dado da idade é <class 'str'>\n",
      "\n",
      "O tipo de dado da idade é <class 'int'>\n",
      "O tipo de dado da idade é <class 'int'>\n",
      "\n",
      " 189\n",
      "\n",
      "Qual é o seu peso? 70\n",
      "O peso de Lucas é 70 kg.\n",
      "\n",
      "O tipo de dado da idade é <class 'int'>\n"
     ]
    }
   ],
   "source": [
    "print(\"Quantos anos você tem?\")\n",
    "age = input()\n",
    "print(f\"O Lucas tem {age} anos.\")\n",
    "\n",
    "heigth = input(\"\\nQual é a sua altura: \")\n",
    "print(f\"A Altura de Lucas é {heigth} cm.\")\n",
    "\n",
    "print(\"\\nO tipo de dado da idade é\", type(age))\n",
    "print(\"O tipo de dado da idade é\", type(heigth))\n",
    "\n",
    "#convertendo string para inteiro\n",
    "\n",
    "AgeValue = int(age)\n",
    "HeightValue = int(heigth)\n",
    "print(\"\\nO tipo de dado da idade é\", type(AgeValue))\n",
    "print(\"O tipo de dado da idade é\", type(HeightValue))\n",
    "\n",
    "print(\"\\n\", AgeValue + HeightValue)\n",
    "\n",
    "peso = int(input(\"\\nQual é o seu peso? \"))\n",
    "print(f\"O peso de Lucas é {peso} kg.\")\n",
    "print(\"\\nO tipo de dado da idade é\", type(peso))\n"
   ]
  },
  {
   "cell_type": "markdown",
   "metadata": {
    "id": "v_wIPrcgytMi"
   },
   "source": [
    "## Exemplo 04 - Operadores"
   ]
  },
  {
   "cell_type": "code",
   "execution_count": null,
   "metadata": {
    "colab": {
     "base_uri": "https://localhost:8080/"
    },
    "executionInfo": {
     "elapsed": 12,
     "status": "ok",
     "timestamp": 1740781952579,
     "user": {
      "displayName": "Lucas Martins",
      "userId": "08742951645617950199"
     },
     "user_tz": 180
    },
    "id": "JkJo4jeMy0BV",
    "outputId": "f6b0af1a-24d1-41bf-80f9-790ca21af3ad"
   },
   "outputs": [
    {
     "name": "stdout",
     "output_type": "stream",
     "text": [
      "Contando aves do meu galinheiro.\n",
      "Franquinhos 30.0\n",
      "Galos 97.0\n",
      "\n",
      "Agora vou contar os ovos.\n",
      "6.75\n",
      "\n",
      "Este resultado é verdadeiro: 3 + 2 < 5 - 7?\n",
      "False\n",
      "\n",
      "Quanto é 3 + 2? 5\n",
      "Quanto é 5 - 7? -2\n",
      "O que é maior? True\n"
     ]
    }
   ],
   "source": [
    "print(\"Contando aves do meu galinheiro.\")\n",
    "print(\"Franquinhos\", 25 + 30 / 6)\n",
    "print(\"Galos\", 100.0 - 25 * 3 % 4)\n",
    "\n",
    "print(\"\\nAgora vou contar os ovos.\")\n",
    "print(3 + 2 + 1 - 5 + 4 % 2 -1 / 4+ 6)\n",
    "\n",
    "print(\"\\nEste resultado é verdadeiro: 3 + 2 < 5 - 7?\")\n",
    "print(3 + 2 < 5 - 7)\n",
    "\n",
    "print(\"\\nQuanto é 3 + 2?\", 3 + 2)\n",
    "print(\"Quanto é 5 - 7?\", 5 - 7)\n",
    "print(\"O que é maior?\", 5 > -2)"
   ]
  },
  {
   "cell_type": "markdown",
   "metadata": {
    "id": "2pc6y0zx0_Bb"
   },
   "source": [
    "## Exemplo 05 - Estruturas Condicionais"
   ]
  },
  {
   "cell_type": "code",
   "execution_count": null,
   "metadata": {
    "colab": {
     "base_uri": "https://localhost:8080/"
    },
    "executionInfo": {
     "elapsed": 13,
     "status": "ok",
     "timestamp": 1740180921044,
     "user": {
      "displayName": "Lucas Martins",
      "userId": "08742951645617950199"
     },
     "user_tz": 180
    },
    "id": "_aLI_p8n1LNs",
    "outputId": "4f5d03ce-1198-4534-aa08-3589609d8092"
   },
   "outputs": [
    {
     "name": "stdout",
     "output_type": "stream",
     "text": [
      "Nós podemos pegar um carro.\n",
      "linha condição 2 falsa\n",
      "\n",
      "linha da condição 2\n"
     ]
    }
   ],
   "source": [
    "pessoas = 30\n",
    "carros = 40\n",
    "caminhoes = 15\n",
    "motos = 100\n",
    "\n",
    "#desvio condicional simples\n",
    "if (carros > pessoas):\n",
    "  print(\"Nós podemos pegar um carro.\")\n",
    "\n",
    "#desvio condicional composto\n",
    "if (carros <pessoas):\n",
    "  print(\"linha da condição verdadeira 1\")\n",
    "  print(\"linha da condição verdadeira 2\")\n",
    "else:\n",
    "  print(\"linha condição 2 falsa\")\n",
    "\n",
    "#varios if\n",
    "if(carros < pessoas):\n",
    "  print(\"\\nlinha da condição 1\")\n",
    "\n",
    "elif(motos > caminhoes):\n",
    "  print(\"\\nlinha da condição 2\")\n",
    "\n",
    "elif(caminhoes == pessoas):\n",
    "  print(\"\\nlinha da condição 3\")\n",
    "\n",
    "else:\n",
    "  print(\"\\nlinha da condição 4\")"
   ]
  },
  {
   "cell_type": "markdown",
   "metadata": {
    "id": "0RYeu8Et-crn"
   },
   "source": [
    "## Exemplo 06 - Laços de Repetição"
   ]
  },
  {
   "cell_type": "code",
   "execution_count": null,
   "metadata": {
    "colab": {
     "base_uri": "https://localhost:8080/"
    },
    "executionInfo": {
     "elapsed": 30,
     "status": "ok",
     "timestamp": 1740183989809,
     "user": {
      "displayName": "Lucas Martins",
      "userId": "08742951645617950199"
     },
     "user_tz": 180
    },
    "id": "XEfnYAwu-hHu",
    "outputId": "f67a647d-311b-4286-9a16-784d87e6a95d"
   },
   "outputs": [
    {
     "name": "stdout",
     "output_type": "stream",
     "text": [
      "Estou indo de 0 até 0\n",
      "O valor da lista é [0]\n",
      "Estou indo de 0 até 1\n",
      "O valor da lista é [0, 1]\n",
      "Estou indo de 0 até 2\n",
      "O valor da lista é [0, 1, 2]\n",
      "Estou indo de 0 até 3\n",
      "O valor da lista é [0, 1, 2, 3]\n",
      "Estou indo de 0 até 4\n",
      "O valor da lista é [0, 1, 2, 3, 4]\n",
      "Estou indo de 0 até 5\n",
      "O valor da lista é [0, 1, 2, 3, 4, 5]\n",
      "\n",
      "\n",
      "Agora vamos testar com FOR. \n",
      "\n",
      "\n",
      "Estou indo de 0 até 0\n",
      "O valor da lista é [0, 1, 2, 3, 4, 5, 0]\n",
      "Estou indo de 0 até 1\n",
      "O valor da lista é [0, 1, 2, 3, 4, 5, 0, 1]\n",
      "Estou indo de 0 até 2\n",
      "O valor da lista é [0, 1, 2, 3, 4, 5, 0, 1, 2]\n",
      "Estou indo de 0 até 3\n",
      "O valor da lista é [0, 1, 2, 3, 4, 5, 0, 1, 2, 3]\n",
      "Estou indo de 0 até 4\n",
      "O valor da lista é [0, 1, 2, 3, 4, 5, 0, 1, 2, 3, 4]\n",
      "Estou indo de 0 até 5\n",
      "O valor da lista é [0, 1, 2, 3, 4, 5, 0, 1, 2, 3, 4, 5]\n",
      "\n",
      "\n",
      "Agora vamos testar com FOR com Strings. \n",
      "\n",
      "\n",
      "O contador está com a letra A.\n",
      "O contador está com a letra u.\n",
      "O contador está com a letra l.\n",
      "O contador está com a letra a.\n",
      "O contador está com a letra  .\n",
      "O contador está com a letra d.\n",
      "O contador está com a letra e.\n",
      "O contador está com a letra  .\n",
      "O contador está com a letra s.\n",
      "O contador está com a letra e.\n",
      "O contador está com a letra x.\n",
      "O contador está com a letra t.\n",
      "O contador está com a letra a.\n",
      "O contador está com a letra  .\n",
      "O contador está com a letra f.\n",
      "O contador está com a letra e.\n",
      "O contador está com a letra i.\n",
      "O contador está com a letra r.\n",
      "O contador está com a letra a.\n"
     ]
    }
   ],
   "source": [
    "i = 0\n",
    "number = []\n",
    "texto = \"Aula de sexta feira\"\n",
    "\n",
    "#Laço com while\n",
    "while (i < 6):\n",
    "  print(f\"Estou indo de 0 até {i}\")\n",
    "  number.append(i)\n",
    "  i= i + 1\n",
    "  print(f\"O valor da lista é {number}\")\n",
    "\n",
    "print(\"\\n\\nAgora vamos testar com FOR. \\n\\n\")\n",
    "\n",
    "#Laço com for\n",
    "for i in range(0,6):\n",
    "  print(f\"Estou indo de 0 até {i}\")\n",
    "  number.append(i)\n",
    "  print(f\"O valor da lista é {number}\")\n",
    "\n",
    "print(\"\\n\\nAgora vamos testar com FOR com Strings. \\n\\n\")\n",
    "\n",
    "#Laço FOR com Strings\n",
    "for i in texto:\n",
    "  print(f\"O contador está com a letra {i}.\")"
   ]
  },
  {
   "cell_type": "markdown",
   "metadata": {},
   "source": [
    "## Exemplo 07 - Listas e Strings\n",
    "\n",
    "* Declaração e manipulação de listas.\n",
    "* Operações básicas com strings.\n",
    "* Fatiamento e iteração."
   ]
  },
  {
   "cell_type": "code",
   "execution_count": null,
   "metadata": {
    "colab": {
     "base_uri": "https://localhost:8080/"
    },
    "executionInfo": {
     "elapsed": 20,
     "status": "ok",
     "timestamp": 1742597180939,
     "user": {
      "displayName": "Lucas Martins",
      "userId": "08742951645617950199"
     },
     "user_tz": 180
    },
    "id": "zBAB58g-2fmW",
    "outputId": "79f9935c-9f11-4e8f-fbf4-9b62058c1ada"
   },
   "outputs": [
    {
     "name": "stdout",
     "output_type": "stream",
     "text": [
      "This is count 1\n",
      "This is count 2\n",
      "This is count 3\n",
      "This is count 4\n",
      "This is count 5\n",
      "A fruit of type: apples\n",
      "A fruit of type: oranges\n",
      "A fruit of type: pears\n",
      "A fruit of type: apricots\n",
      "I got 1\n",
      "I got pennies\n",
      "I got 2\n",
      "I got dimes\n",
      "I got 3\n",
      "I got quarters\n",
      "Adding 0 to the list.\n",
      "Adding 1 to the list.\n",
      "Adding 2 to the list.\n",
      "Adding 3 to the list.\n",
      "Adding 4 to the list.\n",
      "Adding 5 to the list.\n",
      "Element was: 0\n",
      "Element was: 1\n",
      "Element was: 2\n",
      "Element was: 3\n",
      "Element was: 4\n",
      "Element was: 5\n"
     ]
    }
   ],
   "source": [
    "the_count = [1, 2, 3, 4, 5]\n",
    "fruits = ['apples', 'oranges', 'pears', 'apricots']\n",
    "change = [1, 'pennies', 2, 'dimes', 3, 'quarters']\n",
    "lista = []\n",
    "\n",
    "# eese primeiro tipo de loop for percorre uma lista\n",
    "for number in the_count:\n",
    "    print(f\"This is count {number}\")\n",
    "\n",
    "# mesma coisa que o código acima\n",
    "for fruit in fruits:\n",
    "    print(f\"A fruit of type: {fruit}\")\n",
    "\n",
    "# também podemos percorrer listas mistas\n",
    "# perceba que temos que usar um {} uma vez que não sabemos o que há nela\n",
    "for i in change:\n",
    "    print(f\"I got {i}\")\n",
    "\n",
    "# também podemos construir listas, primeiro comece com uma vazia\n",
    "elements = []\n",
    "\n",
    "# então use a função range para fazer a contagem de 0 a 5\n",
    "for i in range(0, 6):\n",
    "    print(f\"Adding {i} to the list.\")\n",
    "    #append é uma função que as listas entendem\n",
    "    elements.append(i)\n",
    "\n",
    "# agora vamos imprimi-la também\n",
    "for i in elements:\n",
    "    print(f\"Element was: {i}\")"
   ]
  },
  {
   "cell_type": "markdown",
   "metadata": {
    "id": "IcnkiQto2lTT"
   },
   "source": [
    "## **Prática Orientada**: Proposta de exercícios curtos para fixação dos conceitos"
   ]
  },
  {
   "cell_type": "markdown",
   "metadata": {
    "id": "CFPax9Jc2qqj"
   },
   "source": [
    "### Exercício 1: Elaborar um programa que calcule e apresente o valor do volume de uma caixa retangular, utilizando a fórmula VOLUME = COMPRIMENTO * LARGURA * ALTURA"
   ]
  },
  {
   "cell_type": "code",
   "execution_count": null,
   "metadata": {
    "colab": {
     "base_uri": "https://localhost:8080/"
    },
    "executionInfo": {
     "elapsed": 6893,
     "status": "ok",
     "timestamp": 1742597194301,
     "user": {
      "displayName": "Lucas Martins",
      "userId": "08742951645617950199"
     },
     "user_tz": 180
    },
    "id": "mI1kMKoG2tKp",
    "outputId": "f606ded3-b96a-43fe-a5ba-8a25b2bc5792"
   },
   "outputs": [
    {
     "name": "stdout",
     "output_type": "stream",
     "text": [
      "Informe o comprimento da caixa (cm): 10\n",
      "Informe a largura da caixa (cm): 10\n",
      "Informe a altura da caixa (cm): 10\n",
      "Uma caixa com 10.0 cm de comprimento, 10.0 cm de largura e 10.0 cm de altura possui 1000.0 cm^3 de volume.\n"
     ]
    }
   ],
   "source": [
    "COMPRIMENTO = float(input(\"Informe o comprimento da caixa (cm): \"))\n",
    "LARGURA = float(input(\"Informe a largura da caixa (cm): \"))\n",
    "ALTURA = float(input(\"Informe a altura da caixa (cm): \"))\n",
    "\n",
    "VOLUME = COMPRIMENTO * LARGURA * ALTURA\n",
    "\n",
    "print(f\"Uma caixa com {COMPRIMENTO} cm de comprimento, {LARGURA} cm de largura e {ALTURA} cm de altura possui {VOLUME} cm^3 de volume.\" )"
   ]
  },
  {
   "cell_type": "markdown",
   "metadata": {
    "id": "8FGPLYuc2zJm"
   },
   "source": [
    "### Exercício 2: Contar o número de palavras em um texto"
   ]
  },
  {
   "cell_type": "code",
   "execution_count": null,
   "metadata": {
    "colab": {
     "base_uri": "https://localhost:8080/"
    },
    "executionInfo": {
     "elapsed": 3427,
     "status": "ok",
     "timestamp": 1742597208299,
     "user": {
      "displayName": "Lucas Martins",
      "userId": "08742951645617950199"
     },
     "user_tz": 180
    },
    "id": "Rlo1kV4f217_",
    "outputId": "2eb87867-866e-45a9-e2fd-d6b9159df9d9"
   },
   "outputs": [
    {
     "name": "stdout",
     "output_type": "stream",
     "text": [
      "Digite um texto: Boa noite\n",
      "Boa noite\n",
      "9\n",
      "['Boa', 'noite']\n",
      "<class 'list'>\n",
      "O texto possui 2 palavras.\n"
     ]
    }
   ],
   "source": [
    "texto = input(\"Digite um texto: \")\n",
    "print(texto)\n",
    "palavras = texto.split()\n",
    "  # .split - metodo que converte um texto em uma lista,\n",
    "    # onde cada trecho separado por espaco vira uma elemento da lista\n",
    "print(len(texto))\n",
    "\n",
    "print(palavras)\n",
    "print(type(palavras))\n",
    "\n",
    "print(f\"O texto possui {len(palavras)} palavras.\")"
   ]
  },
  {
   "cell_type": "markdown",
   "metadata": {
    "id": "_LnE1enb26ou"
   },
   "source": [
    "### Exercício 3: Buscar e substituir palavras em um texto"
   ]
  },
  {
   "cell_type": "code",
   "execution_count": null,
   "metadata": {
    "colab": {
     "base_uri": "https://localhost:8080/"
    },
    "executionInfo": {
     "elapsed": 11023,
     "status": "ok",
     "timestamp": 1742597223835,
     "user": {
      "displayName": "Lucas Martins",
      "userId": "08742951645617950199"
     },
     "user_tz": 180
    },
    "id": "7dfz1_2V289O",
    "outputId": "cdb133d0-727f-42a6-985e-bcab741d9fe3"
   },
   "outputs": [
    {
     "name": "stdout",
     "output_type": "stream",
     "text": [
      "Digite um texto: Boa noite\n",
      "Palavra a ser substituída: noite\n",
      "Nova palavra: tarded\n",
      "Texto alterado: Boa tarded\n"
     ]
    }
   ],
   "source": [
    "texto = input(\"Digite um texto: \")\n",
    "\n",
    "palavra_antiga = input(\"Palavra a ser substituída: \")\n",
    "\n",
    "palavra_nova = input(\"Nova palavra: \")\n",
    "texto_alterado = texto.replace(palavra_antiga, palavra_nova)\n",
    "print(f\"Texto alterado: {texto_alterado}\")"
   ]
  },
  {
   "cell_type": "markdown",
   "metadata": {
    "id": "KhujF54N3A6X"
   },
   "source": [
    "### Exercício 4: Separar frases e iterar sobre elas"
   ]
  },
  {
   "cell_type": "code",
   "execution_count": null,
   "metadata": {
    "colab": {
     "base_uri": "https://localhost:8080/"
    },
    "executionInfo": {
     "elapsed": 8030,
     "status": "ok",
     "timestamp": 1742597235931,
     "user": {
      "displayName": "Lucas Martins",
      "userId": "08742951645617950199"
     },
     "user_tz": 180
    },
    "id": "9akKNq-t3FqJ",
    "outputId": "e041b196-211d-4bff-bfa6-6bacfd1c5fb7"
   },
   "outputs": [
    {
     "name": "stdout",
     "output_type": "stream",
     "text": [
      "Digite um parágrafo: Hoje eu almocei\n",
      "Frase 1: Hoje eu almocei\n"
     ]
    }
   ],
   "source": [
    "paragrafo = input(\"Digite um parágrafo: \")\n",
    "frases = paragrafo.split('.')\n",
    "for i, frase in enumerate(frases):\n",
    "  if frase.strip():\n",
    "    print(f\"Frase {i + 1}: {frase.strip()}\")"
   ]
  },
  {
   "cell_type": "markdown",
   "metadata": {
    "id": "1KQJf_D13NEK"
   },
   "source": [
    "### Exercício 5: Ler três valores inteiros representados pelas variáveis A, B e C e apresentar os valores lidos dispostos em ordem crescente.\n"
   ]
  },
  {
   "cell_type": "code",
   "execution_count": null,
   "metadata": {
    "colab": {
     "base_uri": "https://localhost:8080/"
    },
    "executionInfo": {
     "elapsed": 10061,
     "status": "ok",
     "timestamp": 1742597252970,
     "user": {
      "displayName": "Lucas Martins",
      "userId": "08742951645617950199"
     },
     "user_tz": 180
    },
    "id": "jWqSh7sT3O2X",
    "outputId": "2441e10c-d9fd-4a5d-ddda-73972df11886"
   },
   "outputs": [
    {
     "name": "stdout",
     "output_type": "stream",
     "text": [
      "informe um valor inteiro qualquer: 10\n",
      "informe outro valor inteiro qualquer: 9\n",
      "informe mais um outro valor inteiro qualquer: 88\n",
      "A ordem de valores é 9, 10 e 88\n"
     ]
    }
   ],
   "source": [
    "A = int(input(\"informe um valor inteiro qualquer: \"))\n",
    "B = int(input(\"informe outro valor inteiro qualquer: \"))\n",
    "C = int(input(\"informe mais um outro valor inteiro qualquer: \"))\n",
    "\n",
    "if (A < B):\n",
    "    if (B < C):\n",
    "        print(\"\\n\") # A , B , C\n",
    "    else:\n",
    "        if (C < A): # C , A , B\n",
    "            x = B\n",
    "            B = A\n",
    "            A = C\n",
    "            C = x\n",
    "        else:  # A , C , B\n",
    "            x = B\n",
    "            B = C\n",
    "            C = x\n",
    "else:\n",
    "    if (A < C): # B , A , C\n",
    "        x = B\n",
    "        B = A\n",
    "        A = x\n",
    "    else:\n",
    "        if (B < C): # B , C , A\n",
    "            x = A\n",
    "            A = B\n",
    "            B = C\n",
    "            C = x\n",
    "        else: # C , B , A\n",
    "            x = A\n",
    "            A = C\n",
    "            C = x\n",
    "print(\"A ordem de valores é {}, {} e {}\".format(A, B, C))"
   ]
  },
  {
   "cell_type": "markdown",
   "metadata": {
    "id": "qm5N_KWW3TMZ"
   },
   "source": [
    "### Exercício 6: Fazer a leitura de quatro valores numéricos inteiros representados pelas variáveis A, B, C e D. Apresentar apenas os valores que sejam divisíveis por 2 e 3."
   ]
  },
  {
   "cell_type": "code",
   "execution_count": null,
   "metadata": {
    "colab": {
     "base_uri": "https://localhost:8080/"
    },
    "executionInfo": {
     "elapsed": 7720,
     "status": "ok",
     "timestamp": 1742597265951,
     "user": {
      "displayName": "Lucas Martins",
      "userId": "08742951645617950199"
     },
     "user_tz": 180
    },
    "id": "nhicrtX23UTa",
    "outputId": "2c695499-ff8d-4963-c246-061e8d80ef7f"
   },
   "outputs": [
    {
     "name": "stdout",
     "output_type": "stream",
     "text": [
      "informe um valor inteiro qualquer: 10\n",
      "informe outro valor inteiro qualquer: 11\n",
      "informe mais um outro valor inteiro qualquer: 12\n",
      "informe mais um outro outro valor inteiro qualquer: 13\n",
      "O primeiro valor é divisível por 2 e por 3.\n",
      "O segundo valor é divisível por 2 e por 3.\n",
      "Será que da para resover de outra maneira?\n"
     ]
    }
   ],
   "source": [
    "A = int(input(\"informe um valor inteiro qualquer: \"))\n",
    "B = int(input(\"informe outro valor inteiro qualquer: \"))\n",
    "C = int(input(\"informe mais um outro valor inteiro qualquer: \"))\n",
    "D = int(input(\"informe mais um outro outro valor inteiro qualquer: \"))\n",
    "\n",
    "\n",
    "if(A % 6):\n",
    "  print(\"O primeiro valor é divisível por 2 e por 3.\")\n",
    "if(B % 6):\n",
    "  print(\"O segundo valor é divisível por 2 e por 3.\")\n",
    "if(C % 6):\n",
    "  print(\"Você esta copiando corretamente?\")\n",
    "if(D % 6):\n",
    "  print(\"Será que da para resover de outra maneira?\")"
   ]
  },
  {
   "cell_type": "markdown",
   "metadata": {
    "id": "dwJ0sCtO3W56"
   },
   "source": [
    "### Exercício 7:  Construir um programa que apresente todos os valores numéricos divisíveis por 4 e menores que 200\n"
   ]
  },
  {
   "cell_type": "code",
   "execution_count": null,
   "metadata": {
    "colab": {
     "base_uri": "https://localhost:8080/"
    },
    "executionInfo": {
     "elapsed": 8,
     "status": "ok",
     "timestamp": 1742597271669,
     "user": {
      "displayName": "Lucas Martins",
      "userId": "08742951645617950199"
     },
     "user_tz": 180
    },
    "id": "h6-PAG493Xec",
    "outputId": "cc902303-07f5-4e6c-b60c-65984de77a88"
   },
   "outputs": [
    {
     "name": "stdout",
     "output_type": "stream",
     "text": [
      "4, 8, 12, 16, 20, 24, 28, 32, 36, 40, 44, 48, 52, 56, 60, 64, 68, 72, 76, 80, 84, 88, 92, 96, 100, 104, 108, 112, 116, 120, 124, 128, 132, 136, 140, 144, 148, 152, 156, 160, 164, 168, 172, 176, 180, 184, 188, 192, 196, são todos os n. divisíveis por 4 e menores que 200.\n"
     ]
    }
   ],
   "source": [
    "i = 1\n",
    "while i < 200:\n",
    "    if (i % 4 == 0):\n",
    "        print(i , end=', ')\n",
    "    i += 1\n",
    "else:\n",
    "    print(\"são todos os n. divisíveis por 4 e menores que 200.\")"
   ]
  }
 ],
 "metadata": {
  "colab": {
   "authorship_tag": "ABX9TyPV9GFRGL6lbLhKlQ8l9knQ",
   "collapsed_sections": [
    "kryeVu7HqKou",
    "ajaOAVH2rfhZ",
    "JV8W_Ba4vG52",
    "v_wIPrcgytMi",
    "2pc6y0zx0_Bb",
    "0RYeu8Et-crn",
    "DPEHfWQ52BIG",
    "8FGPLYuc2zJm",
    "_LnE1enb26ou",
    "KhujF54N3A6X",
    "1KQJf_D13NEK",
    "qm5N_KWW3TMZ"
   ],
   "provenance": []
  },
  "kernelspec": {
   "display_name": "Python 3",
   "name": "python3"
  },
  "language_info": {
   "name": "python"
  }
 },
 "nbformat": 4,
 "nbformat_minor": 0
}
