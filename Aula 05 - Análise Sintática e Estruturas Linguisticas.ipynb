{
 "cells": [
  {
   "cell_type": "markdown",
   "metadata": {
    "id": "FP9sX3Ue9-bG"
   },
   "source": [
    "# **Aula 05** - Análise Sintática e Estruturas Linguisticas\n",
    "\n",
    "* Parte 1 - Desenvolvimento Conceitual - Corporas\n",
    "* Parte 2 - Demostração de Estruturas Funcionais"
   ]
  },
  {
   "cell_type": "markdown",
   "metadata": {
    "id": "pHtwiV3hFj9q"
   },
   "source": [
    "## **Parte 1** - Desenvolvimento Conceitual - Corporas"
   ]
  },
  {
   "cell_type": "markdown",
   "metadata": {
    "id": "nenIg3k1Frfm"
   },
   "source": [
    "### Início do Processamento do Corpus"
   ]
  },
  {
   "cell_type": "code",
   "execution_count": null,
   "metadata": {
    "id": "VvpwHY3mF0mW"
   },
   "outputs": [],
   "source": [
    "def ler(nome_arquivo):\n",
    "  arquivo = open(nome_arquivo,'r', encoding='utf-8')\n",
    "  conteudo_arq = arquivo.read()\n",
    "  arquivo.close()\n",
    "  return conteudo_arq"
   ]
  },
  {
   "cell_type": "code",
   "execution_count": null,
   "metadata": {
    "colab": {
     "base_uri": "https://localhost:8080/"
    },
    "executionInfo": {
     "elapsed": 348,
     "status": "ok",
     "timestamp": 1742600929312,
     "user": {
      "displayName": "Lucas Martins",
      "userId": "08742951645617950199"
     },
     "user_tz": 180
    },
    "id": "DuFCCv2rG1LA",
    "outputId": "fcb86b60-adee-4ce9-a7b3-a5b0e638ea60"
   },
   "outputs": [
    {
     "name": "stdout",
     "output_type": "stream",
     "text": [
      "219835\n"
     ]
    }
   ],
   "source": [
    "texto = ler('/content/drive/MyDrive/Colab Notebooks/2025.05 Ubirajara.txt')\n",
    "print(len(texto))"
   ]
  },
  {
   "cell_type": "markdown",
   "metadata": {
    "id": "yVPU4VjmHcHs"
   },
   "source": [
    "### Primeira Etapa - Buscador de Palavras"
   ]
  },
  {
   "cell_type": "code",
   "execution_count": null,
   "metadata": {
    "id": "eyMTIK62Hist"
   },
   "outputs": [],
   "source": [
    "def buscador(alvo, texto):\n",
    "  texto = texto.replace('\\n',' ')\n",
    "  texto = texto.replace('\\t',' ')\n",
    "\n",
    "  ocorrencias = []\n",
    "\n",
    "  encontrado_aqui = texto.find(alvo, 0)\n",
    "\n",
    "  while encontrado_aqui > 0:\n",
    "    pos_inicial = encontrado_aqui - (40 - len(alvo))\n",
    "    trecho = texto[pos_inicial: pos_inicial + 80]\n",
    "\n",
    "    ocorrencias.append(trecho)\n",
    "\n",
    "    encontrado_aqui = texto.find(alvo, encontrado_aqui + 1)\n",
    "\n",
    "    return ocorrencias"
   ]
  },
  {
   "cell_type": "code",
   "execution_count": null,
   "metadata": {
    "colab": {
     "base_uri": "https://localhost:8080/"
    },
    "executionInfo": {
     "elapsed": 7,
     "status": "ok",
     "timestamp": 1742601391446,
     "user": {
      "displayName": "Lucas Martins",
      "userId": "08742951645617950199"
     },
     "user_tz": 180
    },
    "id": "AIGs39C7IWxA",
    "outputId": "8eb9faf2-bec9-43d4-fca6-8341f087b431"
   },
   "outputs": [
    {
     "name": "stdout",
     "output_type": "stream",
     "text": [
      "i o chefe tocantim quem recebeu no peito a ponta farpada.  Quando o corpo robust\n"
     ]
    }
   ],
   "source": [
    "resultados = buscador(' peito', texto)\n",
    "\n",
    "for trecho in resultados:\n",
    "  print(trecho)"
   ]
  },
  {
   "cell_type": "markdown",
   "metadata": {
    "id": "xdByX7FQI8sI"
   },
   "source": [
    "### Segunda Etapa - Limpeza dos corpus"
   ]
  },
  {
   "cell_type": "code",
   "execution_count": null,
   "metadata": {
    "id": "RiWPlHb9JBkr"
   },
   "outputs": [],
   "source": [
    "palavras = texto.split()"
   ]
  },
  {
   "cell_type": "code",
   "execution_count": null,
   "metadata": {
    "id": "D1O6Ad9mJE41"
   },
   "outputs": [],
   "source": [
    "def limpar(lista):\n",
    "  lixo = '.,:;?!\"´`^~()[]{}\\/|@#$%¨&*-'\n",
    "  quase_limpo = [x.strip(lixo).lower() for x in lista]\n",
    "  return [x for x in quase_limpo if x.isalpha() or '-' not in x]"
   ]
  },
  {
   "cell_type": "code",
   "execution_count": null,
   "metadata": {
    "colab": {
     "base_uri": "https://localhost:8080/"
    },
    "executionInfo": {
     "elapsed": 11,
     "status": "ok",
     "timestamp": 1742601705466,
     "user": {
      "displayName": "Lucas Martins",
      "userId": "08742951645617950199"
     },
     "user_tz": 180
    },
    "id": "gc5ihgOXJzQv",
    "outputId": "c3d74dd5-0a05-45fc-8e5a-2092a55a34ae"
   },
   "outputs": [
    {
     "name": "stdout",
     "output_type": "stream",
     "text": [
      "['Corre-se', 'atrás', 'do', 'carro,', 'corre', 'se', 'o', 'carro', 'for', 'embora.']\n"
     ]
    }
   ],
   "source": [
    "teste = \"Corre-se atrás do carro, corre se o carro for embora.\"\n",
    "word = teste.split()\n",
    "print(word)"
   ]
  },
  {
   "cell_type": "code",
   "execution_count": null,
   "metadata": {
    "colab": {
     "base_uri": "https://localhost:8080/"
    },
    "executionInfo": {
     "elapsed": 6,
     "status": "ok",
     "timestamp": 1742601725226,
     "user": {
      "displayName": "Lucas Martins",
      "userId": "08742951645617950199"
     },
     "user_tz": 180
    },
    "id": "OSGCYArNJ_QS",
    "outputId": "f628e7b9-0643-45e7-e4f9-11764053b125"
   },
   "outputs": [
    {
     "name": "stdout",
     "output_type": "stream",
     "text": [
      "['atrás', 'do', 'carro', 'corre', 'se', 'o', 'carro', 'for', 'embora']\n"
     ]
    }
   ],
   "source": [
    "print(limpar(word))"
   ]
  },
  {
   "cell_type": "code",
   "execution_count": null,
   "metadata": {
    "colab": {
     "base_uri": "https://localhost:8080/"
    },
    "executionInfo": {
     "elapsed": 11,
     "status": "ok",
     "timestamp": 1742601777005,
     "user": {
      "displayName": "Lucas Martins",
      "userId": "08742951645617950199"
     },
     "user_tz": 180
    },
    "id": "6ujv4FN8KDgv",
    "outputId": "015fbe76-d750-4fce-d041-25f130f80f3a"
   },
   "outputs": [
    {
     "name": "stdout",
     "output_type": "stream",
     "text": [
      "37139\n",
      "36585\n"
     ]
    }
   ],
   "source": [
    "print(len(palavras))\n",
    "palavras = limpar(palavras)\n",
    "print(len(palavras))"
   ]
  },
  {
   "cell_type": "markdown",
   "metadata": {
    "id": "tTcghRXq-EO0"
   },
   "source": [
    "## **Parte 2** - Demostração de estruturas funcionais"
   ]
  },
  {
   "cell_type": "markdown",
   "metadata": {
    "id": "-GeiyVSD-A8q"
   },
   "source": [
    "### Exemplo 1 - POS Tagging com Spacy"
   ]
  },
  {
   "cell_type": "code",
   "execution_count": null,
   "metadata": {
    "colab": {
     "base_uri": "https://localhost:8080/"
    },
    "executionInfo": {
     "elapsed": 12680,
     "status": "ok",
     "timestamp": 1742602153523,
     "user": {
      "displayName": "Lucas Martins",
      "userId": "08742951645617950199"
     },
     "user_tz": 180
    },
    "id": "U2Bxut1w-Fvq",
    "outputId": "24df586e-abf4-414c-dd23-7977fc5123ce"
   },
   "outputs": [
    {
     "name": "stdout",
     "output_type": "stream",
     "text": [
      "Requirement already satisfied: spacy in /usr/local/lib/python3.11/dist-packages (3.8.4)\n",
      "Requirement already satisfied: spacy-legacy<3.1.0,>=3.0.11 in /usr/local/lib/python3.11/dist-packages (from spacy) (3.0.12)\n",
      "Requirement already satisfied: spacy-loggers<2.0.0,>=1.0.0 in /usr/local/lib/python3.11/dist-packages (from spacy) (1.0.5)\n",
      "Requirement already satisfied: murmurhash<1.1.0,>=0.28.0 in /usr/local/lib/python3.11/dist-packages (from spacy) (1.0.12)\n",
      "Requirement already satisfied: cymem<2.1.0,>=2.0.2 in /usr/local/lib/python3.11/dist-packages (from spacy) (2.0.11)\n",
      "Requirement already satisfied: preshed<3.1.0,>=3.0.2 in /usr/local/lib/python3.11/dist-packages (from spacy) (3.0.9)\n",
      "Requirement already satisfied: thinc<8.4.0,>=8.3.4 in /usr/local/lib/python3.11/dist-packages (from spacy) (8.3.4)\n",
      "Requirement already satisfied: wasabi<1.2.0,>=0.9.1 in /usr/local/lib/python3.11/dist-packages (from spacy) (1.1.3)\n",
      "Requirement already satisfied: srsly<3.0.0,>=2.4.3 in /usr/local/lib/python3.11/dist-packages (from spacy) (2.5.1)\n",
      "Requirement already satisfied: catalogue<2.1.0,>=2.0.6 in /usr/local/lib/python3.11/dist-packages (from spacy) (2.0.10)\n",
      "Requirement already satisfied: weasel<0.5.0,>=0.1.0 in /usr/local/lib/python3.11/dist-packages (from spacy) (0.4.1)\n",
      "Requirement already satisfied: typer<1.0.0,>=0.3.0 in /usr/local/lib/python3.11/dist-packages (from spacy) (0.15.2)\n",
      "Requirement already satisfied: tqdm<5.0.0,>=4.38.0 in /usr/local/lib/python3.11/dist-packages (from spacy) (4.67.1)\n",
      "Requirement already satisfied: numpy>=1.19.0 in /usr/local/lib/python3.11/dist-packages (from spacy) (2.0.2)\n",
      "Requirement already satisfied: requests<3.0.0,>=2.13.0 in /usr/local/lib/python3.11/dist-packages (from spacy) (2.32.3)\n",
      "Requirement already satisfied: pydantic!=1.8,!=1.8.1,<3.0.0,>=1.7.4 in /usr/local/lib/python3.11/dist-packages (from spacy) (2.10.6)\n",
      "Requirement already satisfied: jinja2 in /usr/local/lib/python3.11/dist-packages (from spacy) (3.1.6)\n",
      "Requirement already satisfied: setuptools in /usr/local/lib/python3.11/dist-packages (from spacy) (75.1.0)\n",
      "Requirement already satisfied: packaging>=20.0 in /usr/local/lib/python3.11/dist-packages (from spacy) (24.2)\n",
      "Requirement already satisfied: langcodes<4.0.0,>=3.2.0 in /usr/local/lib/python3.11/dist-packages (from spacy) (3.5.0)\n",
      "Requirement already satisfied: language-data>=1.2 in /usr/local/lib/python3.11/dist-packages (from langcodes<4.0.0,>=3.2.0->spacy) (1.3.0)\n",
      "Requirement already satisfied: annotated-types>=0.6.0 in /usr/local/lib/python3.11/dist-packages (from pydantic!=1.8,!=1.8.1,<3.0.0,>=1.7.4->spacy) (0.7.0)\n",
      "Requirement already satisfied: pydantic-core==2.27.2 in /usr/local/lib/python3.11/dist-packages (from pydantic!=1.8,!=1.8.1,<3.0.0,>=1.7.4->spacy) (2.27.2)\n",
      "Requirement already satisfied: typing-extensions>=4.12.2 in /usr/local/lib/python3.11/dist-packages (from pydantic!=1.8,!=1.8.1,<3.0.0,>=1.7.4->spacy) (4.12.2)\n",
      "Requirement already satisfied: charset-normalizer<4,>=2 in /usr/local/lib/python3.11/dist-packages (from requests<3.0.0,>=2.13.0->spacy) (3.4.1)\n",
      "Requirement already satisfied: idna<4,>=2.5 in /usr/local/lib/python3.11/dist-packages (from requests<3.0.0,>=2.13.0->spacy) (3.10)\n",
      "Requirement already satisfied: urllib3<3,>=1.21.1 in /usr/local/lib/python3.11/dist-packages (from requests<3.0.0,>=2.13.0->spacy) (2.3.0)\n",
      "Requirement already satisfied: certifi>=2017.4.17 in /usr/local/lib/python3.11/dist-packages (from requests<3.0.0,>=2.13.0->spacy) (2025.1.31)\n",
      "Requirement already satisfied: blis<1.3.0,>=1.2.0 in /usr/local/lib/python3.11/dist-packages (from thinc<8.4.0,>=8.3.4->spacy) (1.2.0)\n",
      "Requirement already satisfied: confection<1.0.0,>=0.0.1 in /usr/local/lib/python3.11/dist-packages (from thinc<8.4.0,>=8.3.4->spacy) (0.1.5)\n",
      "Requirement already satisfied: click>=8.0.0 in /usr/local/lib/python3.11/dist-packages (from typer<1.0.0,>=0.3.0->spacy) (8.1.8)\n",
      "Requirement already satisfied: shellingham>=1.3.0 in /usr/local/lib/python3.11/dist-packages (from typer<1.0.0,>=0.3.0->spacy) (1.5.4)\n",
      "Requirement already satisfied: rich>=10.11.0 in /usr/local/lib/python3.11/dist-packages (from typer<1.0.0,>=0.3.0->spacy) (13.9.4)\n",
      "Requirement already satisfied: cloudpathlib<1.0.0,>=0.7.0 in /usr/local/lib/python3.11/dist-packages (from weasel<0.5.0,>=0.1.0->spacy) (0.21.0)\n",
      "Requirement already satisfied: smart-open<8.0.0,>=5.2.1 in /usr/local/lib/python3.11/dist-packages (from weasel<0.5.0,>=0.1.0->spacy) (7.1.0)\n",
      "Requirement already satisfied: MarkupSafe>=2.0 in /usr/local/lib/python3.11/dist-packages (from jinja2->spacy) (3.0.2)\n",
      "Requirement already satisfied: marisa-trie>=1.1.0 in /usr/local/lib/python3.11/dist-packages (from language-data>=1.2->langcodes<4.0.0,>=3.2.0->spacy) (1.2.1)\n",
      "Requirement already satisfied: markdown-it-py>=2.2.0 in /usr/local/lib/python3.11/dist-packages (from rich>=10.11.0->typer<1.0.0,>=0.3.0->spacy) (3.0.0)\n",
      "Requirement already satisfied: pygments<3.0.0,>=2.13.0 in /usr/local/lib/python3.11/dist-packages (from rich>=10.11.0->typer<1.0.0,>=0.3.0->spacy) (2.18.0)\n",
      "Requirement already satisfied: wrapt in /usr/local/lib/python3.11/dist-packages (from smart-open<8.0.0,>=5.2.1->weasel<0.5.0,>=0.1.0->spacy) (1.17.2)\n",
      "Requirement already satisfied: mdurl~=0.1 in /usr/local/lib/python3.11/dist-packages (from markdown-it-py>=2.2.0->rich>=10.11.0->typer<1.0.0,>=0.3.0->spacy) (0.1.2)\n",
      "Collecting pt-core-news-sm==3.8.0\n",
      "  Downloading https://github.com/explosion/spacy-models/releases/download/pt_core_news_sm-3.8.0/pt_core_news_sm-3.8.0-py3-none-any.whl (13.0 MB)\n",
      "\u001b[2K     \u001b[90m━━━━━━━━━━━━━━━━━━━━━━━━━━━━━━━━━━━━━━━━\u001b[0m \u001b[32m13.0/13.0 MB\u001b[0m \u001b[31m87.4 MB/s\u001b[0m eta \u001b[36m0:00:00\u001b[0m\n",
      "\u001b[?25h\u001b[38;5;2m✔ Download and installation successful\u001b[0m\n",
      "You can now load the package via spacy.load('pt_core_news_sm')\n",
      "\u001b[38;5;3m⚠ Restart to reload dependencies\u001b[0m\n",
      "If you are in a Jupyter or Colab notebook, you may need to restart Python in\n",
      "order to load all the package's dependencies. You can do this by selecting the\n",
      "'Restart kernel' or 'Restart runtime' option.\n"
     ]
    }
   ],
   "source": [
    "!pip install spacy\n",
    "!python -m spacy download pt_core_news_sm"
   ]
  },
  {
   "cell_type": "code",
   "execution_count": null,
   "metadata": {
    "colab": {
     "base_uri": "https://localhost:8080/"
    },
    "executionInfo": {
     "elapsed": 3970,
     "status": "ok",
     "timestamp": 1742602162693,
     "user": {
      "displayName": "Lucas Martins",
      "userId": "08742951645617950199"
     },
     "user_tz": 180
    },
    "id": "9CcafBdp-Jf4",
    "outputId": "75c48c1a-979d-430e-df4f-4fe3d0d536de"
   },
   "outputs": [
    {
     "name": "stdout",
     "output_type": "stream",
     "text": [
      "Insira uma frase, gramaticalmente correta: boa noite turma.\n",
      "boa noite turma.\n",
      "boa -> ADJ\n",
      "noite -> NOUN\n",
      "turma -> ADJ\n",
      ". -> PUNCT\n"
     ]
    }
   ],
   "source": [
    "import spacy\n",
    "\n",
    "nlp = spacy.load(\"pt_core_news_sm\")\n",
    "\n",
    "frase = input(\"Insira uma frase, gramaticalmente correta: \")\n",
    "\n",
    "doc = nlp(frase)\n",
    "\n",
    "print(doc)\n",
    "\n",
    "for token in doc:\n",
    "  print(f\"{token.text} -> {token.pos_}\")"
   ]
  },
  {
   "cell_type": "markdown",
   "metadata": {
    "id": "wQJ5i6jV-V4F"
   },
   "source": [
    "### Exemplo 2 - Pos Tagging com NLTK (somente em inglÊs)\n",
    "\n",
    "---\n",
    "\n"
   ]
  },
  {
   "cell_type": "code",
   "execution_count": null,
   "metadata": {
    "colab": {
     "base_uri": "https://localhost:8080/"
    },
    "executionInfo": {
     "elapsed": 4922,
     "status": "ok",
     "timestamp": 1742602265173,
     "user": {
      "displayName": "Lucas Martins",
      "userId": "08742951645617950199"
     },
     "user_tz": 180
    },
    "id": "P6IcHlB9-Yzu",
    "outputId": "331a5333-9823-4272-8414-800bc1dcc950"
   },
   "outputs": [
    {
     "name": "stdout",
     "output_type": "stream",
     "text": [
      "Requirement already satisfied: nltk in /usr/local/lib/python3.11/dist-packages (3.9.1)\n",
      "Requirement already satisfied: click in /usr/local/lib/python3.11/dist-packages (from nltk) (8.1.8)\n",
      "Requirement already satisfied: joblib in /usr/local/lib/python3.11/dist-packages (from nltk) (1.4.2)\n",
      "Requirement already satisfied: regex>=2021.8.3 in /usr/local/lib/python3.11/dist-packages (from nltk) (2024.11.6)\n",
      "Requirement already satisfied: tqdm in /usr/local/lib/python3.11/dist-packages (from nltk) (4.67.1)\n"
     ]
    }
   ],
   "source": [
    "!pip install nltk"
   ]
  },
  {
   "cell_type": "code",
   "execution_count": null,
   "metadata": {
    "colab": {
     "base_uri": "https://localhost:8080/"
    },
    "executionInfo": {
     "elapsed": 5050,
     "status": "ok",
     "timestamp": 1742602398279,
     "user": {
      "displayName": "Lucas Martins",
      "userId": "08742951645617950199"
     },
     "user_tz": 180
    },
    "id": "u2vuatD0-Z-L",
    "outputId": "b914e48e-c786-4fb2-ae0a-b81ff4b8fbc9"
   },
   "outputs": [
    {
     "name": "stderr",
     "output_type": "stream",
     "text": [
      "[nltk_data] Downloading package averaged_perceptron_tagger_eng to\n",
      "[nltk_data]     /root/nltk_data...\n",
      "[nltk_data]   Unzipping taggers/averaged_perceptron_tagger_eng.zip.\n",
      "[nltk_data] Downloading package punkt_tab to /root/nltk_data...\n",
      "[nltk_data]   Package punkt_tab is already up-to-date!\n"
     ]
    },
    {
     "name": "stdout",
     "output_type": "stream",
     "text": [
      "Insira uma frase, coerente: Boa noite\n",
      "Boa->NNP\n",
      "noite->NN\n"
     ]
    }
   ],
   "source": [
    "import nltk\n",
    "nltk.download(\"averaged_perceptron_tagger_eng\")\n",
    "nltk.download('punkt_tab')\n",
    "\n",
    "frase = input(\"Insira uma frase, coerente: \")\n",
    "token = nltk.word_tokenize(frase)\n",
    "\n",
    "pos_tags = nltk.pos_tag(token)\n",
    "\n",
    "for palavra, classe in pos_tags:\n",
    "  print(f'{palavra}->{classe}')\n"
   ]
  },
  {
   "cell_type": "markdown",
   "metadata": {
    "id": "EI5AS08o-sTw"
   },
   "source": [
    "### Exemplo 3 - Parsing de Dependência com spacy"
   ]
  },
  {
   "cell_type": "code",
   "execution_count": null,
   "metadata": {
    "colab": {
     "base_uri": "https://localhost:8080/"
    },
    "executionInfo": {
     "elapsed": 768,
     "status": "ok",
     "timestamp": 1742602456031,
     "user": {
      "displayName": "Lucas Martins",
      "userId": "08742951645617950199"
     },
     "user_tz": 180
    },
    "id": "wifZZqOE-tx2",
    "outputId": "c6c9f739-ecf0-4f69-9ff8-17c99680eae8"
   },
   "outputs": [
    {
     "name": "stdout",
     "output_type": "stream",
     "text": [
      "O -> det -> gato\n",
      "gato -> ROOT -> gato\n",
      "preto -> amod -> gato\n",
      "dorme -> amod -> gato\n",
      "na -> case -> cadeira\n",
      "cadeira -> nmod -> gato\n"
     ]
    }
   ],
   "source": [
    "import spacy\n",
    "\n",
    "nlp = spacy.load('pt_core_news_sm')\n",
    "\n",
    "frase = \"O gato preto dorme na cadeira\"\n",
    "\n",
    "doc = nlp(frase)\n",
    "\n",
    "for token in doc:\n",
    "  print(f\"{token.text} -> {token.dep_} -> {token.head.text}\")"
   ]
  },
  {
   "cell_type": "markdown",
   "metadata": {
    "id": "ClCH2rTf-vGL"
   },
   "source": [
    "### Exemplo 4 - Análise de Dependência com spacy"
   ]
  },
  {
   "cell_type": "code",
   "execution_count": null,
   "metadata": {
    "colab": {
     "base_uri": "https://localhost:8080/",
     "height": 353
    },
    "executionInfo": {
     "elapsed": 1160,
     "status": "ok",
     "timestamp": 1742602488509,
     "user": {
      "displayName": "Lucas Martins",
      "userId": "08742951645617950199"
     },
     "user_tz": 180
    },
    "id": "l0_s_M_m-wEQ",
    "outputId": "6be32b79-2fd9-443d-8d34-b4d72694188f"
   },
   "outputs": [
    {
     "data": {
      "text/html": [
       "<span class=\"tex2jax_ignore\"><svg xmlns=\"http://www.w3.org/2000/svg\" xmlns:xlink=\"http://www.w3.org/1999/xlink\" xml:lang=\"pt\" id=\"248204cadc7c4ff9980ac129783ae1ca-0\" class=\"displacy\" width=\"1100\" height=\"312.0\" direction=\"ltr\" style=\"max-width: none; height: 312.0px; color: #000000; background: #ffffff; font-family: Arial; direction: ltr\">\n",
       "<text class=\"displacy-token\" fill=\"currentColor\" text-anchor=\"middle\" y=\"222.0\">\n",
       "    <tspan class=\"displacy-word\" fill=\"currentColor\" x=\"50\">O</tspan>\n",
       "    <tspan class=\"displacy-tag\" dy=\"2em\" fill=\"currentColor\" x=\"50\">DET</tspan>\n",
       "</text>\n",
       "\n",
       "<text class=\"displacy-token\" fill=\"currentColor\" text-anchor=\"middle\" y=\"222.0\">\n",
       "    <tspan class=\"displacy-word\" fill=\"currentColor\" x=\"225\">gato</tspan>\n",
       "    <tspan class=\"displacy-tag\" dy=\"2em\" fill=\"currentColor\" x=\"225\">NOUN</tspan>\n",
       "</text>\n",
       "\n",
       "<text class=\"displacy-token\" fill=\"currentColor\" text-anchor=\"middle\" y=\"222.0\">\n",
       "    <tspan class=\"displacy-word\" fill=\"currentColor\" x=\"400\">preto</tspan>\n",
       "    <tspan class=\"displacy-tag\" dy=\"2em\" fill=\"currentColor\" x=\"400\">ADJ</tspan>\n",
       "</text>\n",
       "\n",
       "<text class=\"displacy-token\" fill=\"currentColor\" text-anchor=\"middle\" y=\"222.0\">\n",
       "    <tspan class=\"displacy-word\" fill=\"currentColor\" x=\"575\">dorme</tspan>\n",
       "    <tspan class=\"displacy-tag\" dy=\"2em\" fill=\"currentColor\" x=\"575\">VERB</tspan>\n",
       "</text>\n",
       "\n",
       "<text class=\"displacy-token\" fill=\"currentColor\" text-anchor=\"middle\" y=\"222.0\">\n",
       "    <tspan class=\"displacy-word\" fill=\"currentColor\" x=\"750\">na</tspan>\n",
       "    <tspan class=\"displacy-tag\" dy=\"2em\" fill=\"currentColor\" x=\"750\">ADP</tspan>\n",
       "</text>\n",
       "\n",
       "<text class=\"displacy-token\" fill=\"currentColor\" text-anchor=\"middle\" y=\"222.0\">\n",
       "    <tspan class=\"displacy-word\" fill=\"currentColor\" x=\"925\">cadeira.</tspan>\n",
       "    <tspan class=\"displacy-tag\" dy=\"2em\" fill=\"currentColor\" x=\"925\">NOUN</tspan>\n",
       "</text>\n",
       "\n",
       "<g class=\"displacy-arrow\">\n",
       "    <path class=\"displacy-arc\" id=\"arrow-248204cadc7c4ff9980ac129783ae1ca-0-0\" stroke-width=\"2px\" d=\"M70,177.0 C70,89.5 220.0,89.5 220.0,177.0\" fill=\"none\" stroke=\"currentColor\"/>\n",
       "    <text dy=\"1.25em\" style=\"font-size: 0.8em; letter-spacing: 1px\">\n",
       "        <textPath xlink:href=\"#arrow-248204cadc7c4ff9980ac129783ae1ca-0-0\" class=\"displacy-label\" startOffset=\"50%\" side=\"left\" fill=\"currentColor\" text-anchor=\"middle\">det</textPath>\n",
       "    </text>\n",
       "    <path class=\"displacy-arrowhead\" d=\"M70,179.0 L62,167.0 78,167.0\" fill=\"currentColor\"/>\n",
       "</g>\n",
       "\n",
       "<g class=\"displacy-arrow\">\n",
       "    <path class=\"displacy-arc\" id=\"arrow-248204cadc7c4ff9980ac129783ae1ca-0-1\" stroke-width=\"2px\" d=\"M245,177.0 C245,89.5 395.0,89.5 395.0,177.0\" fill=\"none\" stroke=\"currentColor\"/>\n",
       "    <text dy=\"1.25em\" style=\"font-size: 0.8em; letter-spacing: 1px\">\n",
       "        <textPath xlink:href=\"#arrow-248204cadc7c4ff9980ac129783ae1ca-0-1\" class=\"displacy-label\" startOffset=\"50%\" side=\"left\" fill=\"currentColor\" text-anchor=\"middle\">amod</textPath>\n",
       "    </text>\n",
       "    <path class=\"displacy-arrowhead\" d=\"M395.0,179.0 L403.0,167.0 387.0,167.0\" fill=\"currentColor\"/>\n",
       "</g>\n",
       "\n",
       "<g class=\"displacy-arrow\">\n",
       "    <path class=\"displacy-arc\" id=\"arrow-248204cadc7c4ff9980ac129783ae1ca-0-2\" stroke-width=\"2px\" d=\"M245,177.0 C245,2.0 575.0,2.0 575.0,177.0\" fill=\"none\" stroke=\"currentColor\"/>\n",
       "    <text dy=\"1.25em\" style=\"font-size: 0.8em; letter-spacing: 1px\">\n",
       "        <textPath xlink:href=\"#arrow-248204cadc7c4ff9980ac129783ae1ca-0-2\" class=\"displacy-label\" startOffset=\"50%\" side=\"left\" fill=\"currentColor\" text-anchor=\"middle\">amod</textPath>\n",
       "    </text>\n",
       "    <path class=\"displacy-arrowhead\" d=\"M575.0,179.0 L583.0,167.0 567.0,167.0\" fill=\"currentColor\"/>\n",
       "</g>\n",
       "\n",
       "<g class=\"displacy-arrow\">\n",
       "    <path class=\"displacy-arc\" id=\"arrow-248204cadc7c4ff9980ac129783ae1ca-0-3\" stroke-width=\"2px\" d=\"M770,177.0 C770,89.5 920.0,89.5 920.0,177.0\" fill=\"none\" stroke=\"currentColor\"/>\n",
       "    <text dy=\"1.25em\" style=\"font-size: 0.8em; letter-spacing: 1px\">\n",
       "        <textPath xlink:href=\"#arrow-248204cadc7c4ff9980ac129783ae1ca-0-3\" class=\"displacy-label\" startOffset=\"50%\" side=\"left\" fill=\"currentColor\" text-anchor=\"middle\">case</textPath>\n",
       "    </text>\n",
       "    <path class=\"displacy-arrowhead\" d=\"M770,179.0 L762,167.0 778,167.0\" fill=\"currentColor\"/>\n",
       "</g>\n",
       "\n",
       "<g class=\"displacy-arrow\">\n",
       "    <path class=\"displacy-arc\" id=\"arrow-248204cadc7c4ff9980ac129783ae1ca-0-4\" stroke-width=\"2px\" d=\"M595,177.0 C595,2.0 925.0,2.0 925.0,177.0\" fill=\"none\" stroke=\"currentColor\"/>\n",
       "    <text dy=\"1.25em\" style=\"font-size: 0.8em; letter-spacing: 1px\">\n",
       "        <textPath xlink:href=\"#arrow-248204cadc7c4ff9980ac129783ae1ca-0-4\" class=\"displacy-label\" startOffset=\"50%\" side=\"left\" fill=\"currentColor\" text-anchor=\"middle\">obl</textPath>\n",
       "    </text>\n",
       "    <path class=\"displacy-arrowhead\" d=\"M925.0,179.0 L933.0,167.0 917.0,167.0\" fill=\"currentColor\"/>\n",
       "</g>\n",
       "</svg></span>"
      ],
      "text/plain": [
       "<IPython.core.display.HTML object>"
      ]
     },
     "metadata": {},
     "output_type": "display_data"
    }
   ],
   "source": [
    "import spacy\n",
    "from spacy import displacy\n",
    "\n",
    "nlp = spacy.load('pt_core_news_sm')\n",
    "\n",
    "frase = \"O gato preto dorme na cadeira.\"\n",
    "\n",
    "doc = nlp(frase)\n",
    "\n",
    "displacy.render(doc, style='dep', jupyter=True)"
   ]
  },
  {
   "cell_type": "markdown",
   "metadata": {
    "id": "1CY7_pgs-xqg"
   },
   "source": [
    "### Exemplo 5 - Análise de Constituência com NLTK"
   ]
  },
  {
   "cell_type": "code",
   "execution_count": null,
   "metadata": {
    "colab": {
     "base_uri": "https://localhost:8080/"
    },
    "executionInfo": {
     "elapsed": 9,
     "status": "ok",
     "timestamp": 1742598792069,
     "user": {
      "displayName": "Lucas Martins",
      "userId": "08742951645617950199"
     },
     "user_tz": 180
    },
    "id": "x716Ziqa-ybx",
    "outputId": "47b600aa-a531-41b2-d85f-7f732eb4e387"
   },
   "outputs": [
    {
     "name": "stdout",
     "output_type": "stream",
     "text": [
      "               S                  \n",
      "      _________|____               \n",
      "     |              VP            \n",
      "     |          ____|___           \n",
      "     |         |        PP        \n",
      "     |         |     ___|_____     \n",
      "     NP        |    |         NP  \n",
      "  ___|___      |    |         |    \n",
      "DET      N     V    P         N   \n",
      " |       |     |    |         |    \n",
      " O      gato dorme  na     cadeira\n",
      "\n"
     ]
    }
   ],
   "source": [
    "import nltk\n",
    "from nltk import Tree\n",
    "\n",
    "sintaxe = Tree('S', [\n",
    "    Tree('NP', [Tree('DET', ['O']), Tree('N', ['gato'])]),\n",
    "    Tree('VP', [Tree('V', ['dorme']),\n",
    "                Tree('PP', [Tree('P',['na']), Tree('NP',[Tree('N', ['cadeira'])])])])\n",
    "])\n",
    "\n",
    "sintaxe.pretty_print()"
   ]
  }
 ],
 "metadata": {
  "colab": {
   "authorship_tag": "ABX9TyPXLamsTnw5k2ax1KTuAIQw",
   "collapsed_sections": [
    "nenIg3k1Frfm",
    "yVPU4VjmHcHs",
    "xdByX7FQI8sI",
    "-GeiyVSD-A8q"
   ],
   "provenance": []
  },
  "kernelspec": {
   "display_name": "Python 3",
   "name": "python3"
  },
  "language_info": {
   "name": "python"
  }
 },
 "nbformat": 4,
 "nbformat_minor": 0
}
