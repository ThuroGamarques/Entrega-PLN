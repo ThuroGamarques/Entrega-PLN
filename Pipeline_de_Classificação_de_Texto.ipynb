{
  "nbformat": 4,
  "nbformat_minor": 0,
  "metadata": {
    "colab": {
      "provenance": []
    },
    "kernelspec": {
      "name": "python3",
      "display_name": "Python 3"
    },
    "language_info": {
      "name": "python"
    }
  },
  "cells": [
    {
      "cell_type": "markdown",
      "source": [
        "# Etapa 0: Criando a Base de Dados"
      ],
      "metadata": {
        "id": "yX7NoZFVUmD7"
      }
    },
    {
      "cell_type": "code",
      "execution_count": 20,
      "metadata": {
        "colab": {
          "base_uri": "https://localhost:8080/"
        },
        "id": "TcL8EawgNLQg",
        "outputId": "cd3215a1-d1b3-4118-b10d-827ece34fe1f"
      },
      "outputs": [
        {
          "output_type": "stream",
          "name": "stdout",
          "text": [
            "Base de Dados criada e salva em 'dados_rotulados.csv'!\n"
          ]
        }
      ],
      "source": [
        "import pandas as pd\n",
        "\n",
        "data = {\n",
        "    'texto': [\n",
        "        \"Este é um ótimo filme!\",\n",
        "        \"O produto é muito ruim.\",\n",
        "        \"Adorei o atendimento ao cliente.\",\n",
        "        \"A entrega atrasou e o produto veio com defeito.\",\n",
        "        \"Recomendo este livro a todos!\",\n",
        "        \"Não gostei da experiência\",\n",
        "        \"O serviço foi excelente.\",\n",
        "        \"Péssima qualidade, não comprem!\",\n",
        "        \"Amei o presente, muito obrigado!\",\n",
        "        \"Que decepção, perdi meu dinheiro.\"\n",
        "    ],\n",
        "    'categoria': [\n",
        "        \"positivo\",\n",
        "        \"negativo\",\n",
        "        \"positivo\",\n",
        "        \"negativo\",\n",
        "        \"positivo\",\n",
        "        \"negativo\",\n",
        "        \"positivo\",\n",
        "        \"negativo\",\n",
        "        \"positivo\",\n",
        "        \"negativo\"\n",
        "    ]\n",
        "}\n",
        "\n",
        "df = pd.DataFrame(data)\n",
        "\n",
        "df.to_csv('dados_rotulados.csv', index=False, encoding='utf-8')\n",
        "\n",
        "print(\"Base de Dados criada e salva em 'dados_rotulados.csv'!\")"
      ]
    },
    {
      "cell_type": "markdown",
      "source": [
        "# Etapa 1: Preparação dos Dados"
      ],
      "metadata": {
        "id": "bFVeZajDUym_"
      }
    },
    {
      "cell_type": "markdown",
      "source": [
        "## Passo 1: Importar as Bibliotecas Necessárias"
      ],
      "metadata": {
        "id": "AFOjtH-NP0IB"
      }
    },
    {
      "cell_type": "code",
      "source": [
        "import nltk\n",
        "import spacy\n",
        "import sklearn\n",
        "import matplotlib.pyplot as plt\n",
        "import string\n",
        "from nltk.corpus import stopwords\n",
        "from nltk.tokenize import word_tokenize\n",
        "from nltk.stem import SnowballStemmer\n",
        "from sklearn.model_selection import train_test_split\n",
        "\n",
        "nltk.download('stopwords')\n",
        "nltk.download('punkt_tab')"
      ],
      "metadata": {
        "colab": {
          "base_uri": "https://localhost:8080/"
        },
        "id": "p4PW7rw6NrMt",
        "outputId": "25c46d12-81f9-42a6-c725-e868e496b2b7"
      },
      "execution_count": 9,
      "outputs": [
        {
          "output_type": "stream",
          "name": "stderr",
          "text": [
            "[nltk_data] Downloading package stopwords to /root/nltk_data...\n",
            "[nltk_data]   Package stopwords is already up-to-date!\n",
            "[nltk_data] Downloading package punkt_tab to /root/nltk_data...\n",
            "[nltk_data]   Package punkt_tab is already up-to-date!\n"
          ]
        },
        {
          "output_type": "execute_result",
          "data": {
            "text/plain": [
              "True"
            ]
          },
          "metadata": {},
          "execution_count": 9
        }
      ]
    },
    {
      "cell_type": "markdown",
      "source": [
        "## Passo 2: Carregar o Conjunto de Dados de Texto Rotulado"
      ],
      "metadata": {
        "id": "wZ3M34ARP7XS"
      }
    },
    {
      "cell_type": "code",
      "source": [
        "data = pd.read_csv('dados_rotulados.csv', encoding='utf-8')"
      ],
      "metadata": {
        "id": "gNkjPuSLQE7E"
      },
      "execution_count": 10,
      "outputs": []
    },
    {
      "cell_type": "markdown",
      "source": [
        "## Passo 3: Explorar e Visualizar os Dados"
      ],
      "metadata": {
        "id": "pgtvrXFqQOVP"
      }
    },
    {
      "cell_type": "code",
      "source": [
        "print(\"Informações do Conjunto de Dados:\")\n",
        "print(data.info())\n",
        "\n",
        "print(\"\\nPrimeiras 5 linhas do Conjunto de Dados:\")\n",
        "print(data.head())"
      ],
      "metadata": {
        "colab": {
          "base_uri": "https://localhost:8080/"
        },
        "id": "E9Ys24BaQSRX",
        "outputId": "a84f2306-1d9e-4564-c0c4-7a0e223410ad"
      },
      "execution_count": 11,
      "outputs": [
        {
          "output_type": "stream",
          "name": "stdout",
          "text": [
            "Informações do Conjunto de Dados:\n",
            "<class 'pandas.core.frame.DataFrame'>\n",
            "RangeIndex: 10 entries, 0 to 9\n",
            "Data columns (total 2 columns):\n",
            " #   Column     Non-Null Count  Dtype \n",
            "---  ------     --------------  ----- \n",
            " 0   texto      10 non-null     object\n",
            " 1   categoria  10 non-null     object\n",
            "dtypes: object(2)\n",
            "memory usage: 292.0+ bytes\n",
            "None\n",
            "\n",
            "Primeiras 5 linhas do Conjunto de Dados:\n",
            "                                             texto categoria\n",
            "0                           Este é um ótimo filme!  positivo\n",
            "1                          O produto é muito ruim.  negativo\n",
            "2                 Adorei o atendimento ao cliente.  positivo\n",
            "3  A entrega atrasou e o produto veio com defeito.  negativo\n",
            "4                    Recomendo este livro a todos!  positivo\n"
          ]
        }
      ]
    },
    {
      "cell_type": "markdown",
      "source": [
        "### Distribuição das Categorias"
      ],
      "metadata": {
        "id": "XO-svtYDQW2G"
      }
    },
    {
      "cell_type": "code",
      "source": [
        "plt.figure(figsize=(10, 5))\n",
        "data['categoria'].value_counts().plot(kind='bar')\n",
        "plt.title('Distribuição das Categorias')\n",
        "plt.xlabel('Categoria')\n",
        "plt.ylabel('Contagem')\n",
        "plt.show()"
      ],
      "metadata": {
        "colab": {
          "base_uri": "https://localhost:8080/",
          "height": 412
        },
        "id": "RFlcQ08sQaQs",
        "outputId": "374a5bca-2caf-4822-8e79-a2bae61edc1e"
      },
      "execution_count": 12,
      "outputs": [
        {
          "output_type": "display_data",
          "data": {
            "text/plain": [
              "<Figure size 1000x500 with 1 Axes>"
            ],
            "image/png": "[encoded data removed]"
          },
          "metadata": {}
        }
      ]
    },
    {
      "cell_type": "markdown",
      "source": [
        "### Tamanho dos Textos"
      ],
      "metadata": {
        "id": "P8-u5jbuQdq8"
      }
    },
    {
      "cell_type": "code",
      "source": [
        "tamanhos_textos = data['texto'].apply(len)\n",
        "plt.figure(figsize=(10, 5))\n",
        "plt.hist(tamanhos_textos, bins=50)\n",
        "plt.title('Tamanho dos Textos')\n",
        "plt.xlabel('Tamanho do Texto')\n",
        "plt.ylabel('Frequência')\n",
        "plt.show()"
      ],
      "metadata": {
        "colab": {
          "base_uri": "https://localhost:8080/",
          "height": 367
        },
        "id": "g7ao5ltfQf-8",
        "outputId": "ebe4645a-f5ca-43ba-d397-d5cc9e6f71c0"
      },
      "execution_count": 13,
      "outputs": [
        {
          "output_type": "display_data",
          "data": {
            "text/plain": [
              "<Figure size 1000x500 with 1 Axes>"
            ],
            "image/png": "[encoded data removed]"
          },
          "metadata": {}
        }
      ]
    },
    {
      "cell_type": "markdown",
      "source": [
        "## Passo 4: Realizar o Pré-Processamento do Texto"
      ],
      "metadata": {
        "id": "rxh6W5KyQrsL"
      }
    },
    {
      "cell_type": "code",
      "source": [
        "def preprocessar_texto(texto):\n",
        "  # Passo 4.1: Limpar o Texto\n",
        "  texto = texto.translate(str.maketrans('', '', string.punctuation))\n",
        "  texto = ''.join([c for c in texto if not c.isdigit()])\n",
        "\n",
        "  # Passo 4.2: Tokenizar o Texto\n",
        "  tokens = word_tokenize(texto.lower())\n",
        "\n",
        "  # Passo 4.3: Remover Stopwords\n",
        "  stop_words = set(stopwords.words('portuguese'))\n",
        "  tokens = [palavra for palavra in tokens if palavra not in stop_words]\n",
        "\n",
        "  # Passo 4.4: Aplicar Stemming ou Lematização\n",
        "  steammer = SnowballStemmer('portuguese')\n",
        "  tokens = [steammer.stem(palavra) for palavra in tokens]\n",
        "\n",
        "  return ' '.join(tokens)"
      ],
      "metadata": {
        "id": "AdCWcBUGQvx7"
      },
      "execution_count": 16,
      "outputs": []
    },
    {
      "cell_type": "markdown",
      "source": [
        "### Aplica a Função de Pré-Processamento à Coluna 'Texto' do DataFrame"
      ],
      "metadata": {
        "id": "W38mWDrIRgBz"
      }
    },
    {
      "cell_type": "code",
      "source": [
        "data['texto_processado'] = data['texto'].apply(preprocessar_texto)"
      ],
      "metadata": {
        "id": "JSLat7QASiOR"
      },
      "execution_count": 17,
      "outputs": []
    },
    {
      "cell_type": "markdown",
      "source": [
        "## Passo 5: Dividir os Dados em Conjuntos de Treinamento e Teste"
      ],
      "metadata": {
        "id": "vkQ3CRKpRuoy"
      }
    },
    {
      "cell_type": "code",
      "source": [
        "x_train, x_test, y_train, y_test = train_test_split(\n",
        "    data['texto_processado'], data['categoria'], test_size=0.2, random_state=42)\n",
        "\n",
        "print(\"\\nTamanho do Conjunto de Treinamento: \", len(x_train))\n",
        "print(\"Tamanho do Conjunto de Teste: \", len(x_test))"
      ],
      "metadata": {
        "colab": {
          "base_uri": "https://localhost:8080/"
        },
        "id": "yuy5CIyNR-k1",
        "outputId": "b472a921-f996-4775-c5a2-131ea827a207"
      },
      "execution_count": 18,
      "outputs": [
        {
          "output_type": "stream",
          "name": "stdout",
          "text": [
            "\n",
            "Tamanho do Conjunto de Treinamento:  8\n",
            "Tamanho do Conjunto de Teste:  2\n"
          ]
        }
      ]
    },
    {
      "cell_type": "markdown",
      "source": [
        "# Etapa 2: Extração de Características"
      ],
      "metadata": {
        "id": "Hs-IwOkiU5m3"
      }
    },
    {
      "cell_type": "markdown",
      "source": [
        "### Importação das Bibliotecas a Serem Utilizadas"
      ],
      "metadata": {
        "id": "Opp_w8bZUEkf"
      }
    },
    {
      "cell_type": "code",
      "source": [
        "from sklearn.feature_extraction.text import TfidfVectorizer\n",
        "from sklearn.naive_bayes import MultinomialNB\n",
        "from sklearn.metrics import accuracy_score, classification_report\n",
        "\n",
        "vectorizer = TfidfVectorizer()\n",
        "x_train_tfidf = vectorizer.fit_transform(x_train)\n",
        "x_test_tfidf = vectorizer.transform(x_test)\n",
        "\n",
        "print(\"\\nNúmero de Características Extraídas: \", x_train_tfidf.shape[1])"
      ],
      "metadata": {
        "colab": {
          "base_uri": "https://localhost:8080/"
        },
        "id": "9XcCoKsoUI0c",
        "outputId": "12a5d97d-59cb-4745-a84e-456426070b02"
      },
      "execution_count": 22,
      "outputs": [
        {
          "output_type": "stream",
          "name": "stdout",
          "text": [
            "\n",
            "Número de Características Extraídas:  23\n"
          ]
        }
      ]
    },
    {
      "cell_type": "markdown",
      "source": [
        "# Etapa 3: Treinamento de Modelo"
      ],
      "metadata": {
        "id": "7mLatr56X1G_"
      }
    },
    {
      "cell_type": "code",
      "source": [
        "modelo = MultinomialNB()\n",
        "modelo.fit(x_train_tfidf, y_train)"
      ],
      "metadata": {
        "colab": {
          "base_uri": "https://localhost:8080/",
          "height": 80
        },
        "id": "VkCcA66NX8HH",
        "outputId": "388c0f4c-bc1a-4c0d-9afd-e3a86133236e"
      },
      "execution_count": 23,
      "outputs": [
        {
          "output_type": "execute_result",
          "data": {
            "text/plain": [
              "MultinomialNB()"
            ],
            "text/html": [
              "<style>#sk-container-id-1 {\n",
              "  /* Definition of color scheme common for light and dark mode */\n",
              "  --sklearn-color-text: #000;\n",
              "  --sklearn-color-text-muted: #666;\n",
              "  --sklearn-color-line: gray;\n",
              "  /* Definition of color scheme for unfitted estimators */\n",
              "  --sklearn-color-unfitted-level-0: #fff5e6;\n",
              "  --sklearn-color-unfitted-level-1: #f6e4d2;\n",
              "  --sklearn-color-unfitted-level-2: #ffe0b3;\n",
              "  --sklearn-color-unfitted-level-3: chocolate;\n",
              "  /* Definition of color scheme for fitted estimators */\n",
              "  --sklearn-color-fitted-level-0: #f0f8ff;\n",
              "  --sklearn-color-fitted-level-1: #d4ebff;\n",
              "  --sklearn-color-fitted-level-2: #b3dbfd;\n",
              "  --sklearn-color-fitted-level-3: cornflowerblue;\n",
              "\n",
              "  /* Specific color for light theme */\n",
              "  --sklearn-color-text-on-default-background: var(--sg-text-color, var(--theme-code-foreground, var(--jp-content-font-color1, black)));\n",
              "  --sklearn-color-background: var(--sg-background-color, var(--theme-background, var(--jp-layout-color0, white)));\n",
              "  --sklearn-color-border-box: var(--sg-text-color, var(--theme-code-foreground, var(--jp-content-font-color1, black)));\n",
              "  --sklearn-color-icon: #696969;\n",
              "\n",
              "  @media (prefers-color-scheme: dark) {\n",
              "    /* Redefinition of color scheme for dark theme */\n",
              "    --sklearn-color-text-on-default-background: var(--sg-text-color, var(--theme-code-foreground, var(--jp-content-font-color1, white)));\n",
              "    --sklearn-color-background: var(--sg-background-color, var(--theme-background, var(--jp-layout-color0, #111)));\n",
              "    --sklearn-color-border-box: var(--sg-text-color, var(--theme-code-foreground, var(--jp-content-font-color1, white)));\n",
              "    --sklearn-color-icon: #878787;\n",
              "  }\n",
              "}\n",
              "\n",
              "#sk-container-id-1 {\n",
              "  color: var(--sklearn-color-text);\n",
              "}\n",
              "\n",
              "#sk-container-id-1 pre {\n",
              "  padding: 0;\n",
              "}\n",
              "\n",
              "#sk-container-id-1 input.sk-hidden--visually {\n",
              "  border: 0;\n",
              "  clip: rect(1px 1px 1px 1px);\n",
              "  clip: rect(1px, 1px, 1px, 1px);\n",
              "  height: 1px;\n",
              "  margin: -1px;\n",
              "  overflow: hidden;\n",
              "  padding: 0;\n",
              "  position: absolute;\n",
              "  width: 1px;\n",
              "}\n",
              "\n",
              "#sk-container-id-1 div.sk-dashed-wrapped {\n",
              "  border: 1px dashed var(--sklearn-color-line);\n",
              "  margin: 0 0.4em 0.5em 0.4em;\n",
              "  box-sizing: border-box;\n",
              "  padding-bottom: 0.4em;\n",
              "  background-color: var(--sklearn-color-background);\n",
              "}\n",
              "\n",
              "#sk-container-id-1 div.sk-container {\n",
              "  /* jupyter's `normalize.less` sets `[hidden] { display: none; }`\n",
              "     but bootstrap.min.css set `[hidden] { display: none !important; }`\n",
              "     so we also need the `!important` here to be able to override the\n",
              "     default hidden behavior on the sphinx rendered scikit-learn.org.\n",
              "     See: https://github.com/scikit-learn/scikit-learn/issues/21755 */\n",
              "  display: inline-block !important;\n",
              "  position: relative;\n",
              "}\n",
              "\n",
              "#sk-container-id-1 div.sk-text-repr-fallback {\n",
              "  display: none;\n",
              "}\n",
              "\n",
              "div.sk-parallel-item,\n",
              "div.sk-serial,\n",
              "div.sk-item {\n",
              "  /* draw centered vertical line to link estimators */\n",
              "  background-image: linear-gradient(var(--sklearn-color-text-on-default-background), var(--sklearn-color-text-on-default-background));\n",
              "  background-size: 2px 100%;\n",
              "  background-repeat: no-repeat;\n",
              "  background-position: center center;\n",
              "}\n",
              "\n",
              "/* Parallel-specific style estimator block */\n",
              "\n",
              "#sk-container-id-1 div.sk-parallel-item::after {\n",
              "  content: \"\";\n",
              "  width: 100%;\n",
              "  border-bottom: 2px solid var(--sklearn-color-text-on-default-background);\n",
              "  flex-grow: 1;\n",
              "}\n",
              "\n",
              "#sk-container-id-1 div.sk-parallel {\n",
              "  display: flex;\n",
              "  align-items: stretch;\n",
              "  justify-content: center;\n",
              "  background-color: var(--sklearn-color-background);\n",
              "  position: relative;\n",
              "}\n",
              "\n",
              "#sk-container-id-1 div.sk-parallel-item {\n",
              "  display: flex;\n",
              "  flex-direction: column;\n",
              "}\n",
              "\n",
              "#sk-container-id-1 div.sk-parallel-item:first-child::after {\n",
              "  align-self: flex-end;\n",
              "  width: 50%;\n",
              "}\n",
              "\n",
              "#sk-container-id-1 div.sk-parallel-item:last-child::after {\n",
              "  align-self: flex-start;\n",
              "  width: 50%;\n",
              "}\n",
              "\n",
              "#sk-container-id-1 div.sk-parallel-item:only-child::after {\n",
              "  width: 0;\n",
              "}\n",
              "\n",
              "/* Serial-specific style estimator block */\n",
              "\n",
              "#sk-container-id-1 div.sk-serial {\n",
              "  display: flex;\n",
              "  flex-direction: column;\n",
              "  align-items: center;\n",
              "  background-color: var(--sklearn-color-background);\n",
              "  padding-right: 1em;\n",
              "  padding-left: 1em;\n",
              "}\n",
              "\n",
              "\n",
              "/* Toggleable style: style used for estimator/Pipeline/ColumnTransformer box that is\n",
              "clickable and can be expanded/collapsed.\n",
              "- Pipeline and ColumnTransformer use this feature and define the default style\n",
              "- Estimators will overwrite some part of the style using the `sk-estimator` class\n",
              "*/\n",
              "\n",
              "/* Pipeline and ColumnTransformer style (default) */\n",
              "\n",
              "#sk-container-id-1 div.sk-toggleable {\n",
              "  /* Default theme specific background. It is overwritten whether we have a\n",
              "  specific estimator or a Pipeline/ColumnTransformer */\n",
              "  background-color: var(--sklearn-color-background);\n",
              "}\n",
              "\n",
              "/* Toggleable label */\n",
              "#sk-container-id-1 label.sk-toggleable__label {\n",
              "  cursor: pointer;\n",
              "  display: flex;\n",
              "  width: 100%;\n",
              "  margin-bottom: 0;\n",
              "  padding: 0.5em;\n",
              "  box-sizing: border-box;\n",
              "  text-align: center;\n",
              "  align-items: start;\n",
              "  justify-content: space-between;\n",
              "  gap: 0.5em;\n",
              "}\n",
              "\n",
              "#sk-container-id-1 label.sk-toggleable__label .caption {\n",
              "  font-size: 0.6rem;\n",
              "  font-weight: lighter;\n",
              "  color: var(--sklearn-color-text-muted);\n",
              "}\n",
              "\n",
              "#sk-container-id-1 label.sk-toggleable__label-arrow:before {\n",
              "  /* Arrow on the left of the label */\n",
              "  content: \"▸\";\n",
              "  float: left;\n",
              "  margin-right: 0.25em;\n",
              "  color: var(--sklearn-color-icon);\n",
              "}\n",
              "\n",
              "#sk-container-id-1 label.sk-toggleable__label-arrow:hover:before {\n",
              "  color: var(--sklearn-color-text);\n",
              "}\n",
              "\n",
              "/* Toggleable content - dropdown */\n",
              "\n",
              "#sk-container-id-1 div.sk-toggleable__content {\n",
              "  max-height: 0;\n",
              "  max-width: 0;\n",
              "  overflow: hidden;\n",
              "  text-align: left;\n",
              "  /* unfitted */\n",
              "  background-color: var(--sklearn-color-unfitted-level-0);\n",
              "}\n",
              "\n",
              "#sk-container-id-1 div.sk-toggleable__content.fitted {\n",
              "  /* fitted */\n",
              "  background-color: var(--sklearn-color-fitted-level-0);\n",
              "}\n",
              "\n",
              "#sk-container-id-1 div.sk-toggleable__content pre {\n",
              "  margin: 0.2em;\n",
              "  border-radius: 0.25em;\n",
              "  color: var(--sklearn-color-text);\n",
              "  /* unfitted */\n",
              "  background-color: var(--sklearn-color-unfitted-level-0);\n",
              "}\n",
              "\n",
              "#sk-container-id-1 div.sk-toggleable__content.fitted pre {\n",
              "  /* unfitted */\n",
              "  background-color: var(--sklearn-color-fitted-level-0);\n",
              "}\n",
              "\n",
              "#sk-container-id-1 input.sk-toggleable__control:checked~div.sk-toggleable__content {\n",
              "  /* Expand drop-down */\n",
              "  max-height: 200px;\n",
              "  max-width: 100%;\n",
              "  overflow: auto;\n",
              "}\n",
              "\n",
              "#sk-container-id-1 input.sk-toggleable__control:checked~label.sk-toggleable__label-arrow:before {\n",
              "  content: \"▾\";\n",
              "}\n",
              "\n",
              "/* Pipeline/ColumnTransformer-specific style */\n",
              "\n",
              "#sk-container-id-1 div.sk-label input.sk-toggleable__control:checked~label.sk-toggleable__label {\n",
              "  color: var(--sklearn-color-text);\n",
              "  background-color: var(--sklearn-color-unfitted-level-2);\n",
              "}\n",
              "\n",
              "#sk-container-id-1 div.sk-label.fitted input.sk-toggleable__control:checked~label.sk-toggleable__label {\n",
              "  background-color: var(--sklearn-color-fitted-level-2);\n",
              "}\n",
              "\n",
              "/* Estimator-specific style */\n",
              "\n",
              "/* Colorize estimator box */\n",
              "#sk-container-id-1 div.sk-estimator input.sk-toggleable__control:checked~label.sk-toggleable__label {\n",
              "  /* unfitted */\n",
              "  background-color: var(--sklearn-color-unfitted-level-2);\n",
              "}\n",
              "\n",
              "#sk-container-id-1 div.sk-estimator.fitted input.sk-toggleable__control:checked~label.sk-toggleable__label {\n",
              "  /* fitted */\n",
              "  background-color: var(--sklearn-color-fitted-level-2);\n",
              "}\n",
              "\n",
              "#sk-container-id-1 div.sk-label label.sk-toggleable__label,\n",
              "#sk-container-id-1 div.sk-label label {\n",
              "  /* The background is the default theme color */\n",
              "  color: var(--sklearn-color-text-on-default-background);\n",
              "}\n",
              "\n",
              "/* On hover, darken the color of the background */\n",
              "#sk-container-id-1 div.sk-label:hover label.sk-toggleable__label {\n",
              "  color: var(--sklearn-color-text);\n",
              "  background-color: var(--sklearn-color-unfitted-level-2);\n",
              "}\n",
              "\n",
              "/* Label box, darken color on hover, fitted */\n",
              "#sk-container-id-1 div.sk-label.fitted:hover label.sk-toggleable__label.fitted {\n",
              "  color: var(--sklearn-color-text);\n",
              "  background-color: var(--sklearn-color-fitted-level-2);\n",
              "}\n",
              "\n",
              "/* Estimator label */\n",
              "\n",
              "#sk-container-id-1 div.sk-label label {\n",
              "  font-family: monospace;\n",
              "  font-weight: bold;\n",
              "  display: inline-block;\n",
              "  line-height: 1.2em;\n",
              "}\n",
              "\n",
              "#sk-container-id-1 div.sk-label-container {\n",
              "  text-align: center;\n",
              "}\n",
              "\n",
              "/* Estimator-specific */\n",
              "#sk-container-id-1 div.sk-estimator {\n",
              "  font-family: monospace;\n",
              "  border: 1px dotted var(--sklearn-color-border-box);\n",
              "  border-radius: 0.25em;\n",
              "  box-sizing: border-box;\n",
              "  margin-bottom: 0.5em;\n",
              "  /* unfitted */\n",
              "  background-color: var(--sklearn-color-unfitted-level-0);\n",
              "}\n",
              "\n",
              "#sk-container-id-1 div.sk-estimator.fitted {\n",
              "  /* fitted */\n",
              "  background-color: var(--sklearn-color-fitted-level-0);\n",
              "}\n",
              "\n",
              "/* on hover */\n",
              "#sk-container-id-1 div.sk-estimator:hover {\n",
              "  /* unfitted */\n",
              "  background-color: var(--sklearn-color-unfitted-level-2);\n",
              "}\n",
              "\n",
              "#sk-container-id-1 div.sk-estimator.fitted:hover {\n",
              "  /* fitted */\n",
              "  background-color: var(--sklearn-color-fitted-level-2);\n",
              "}\n",
              "\n",
              "/* Specification for estimator info (e.g. \"i\" and \"?\") */\n",
              "\n",
              "/* Common style for \"i\" and \"?\" */\n",
              "\n",
              ".sk-estimator-doc-link,\n",
              "a:link.sk-estimator-doc-link,\n",
              "a:visited.sk-estimator-doc-link {\n",
              "  float: right;\n",
              "  font-size: smaller;\n",
              "  line-height: 1em;\n",
              "  font-family: monospace;\n",
              "  background-color: var(--sklearn-color-background);\n",
              "  border-radius: 1em;\n",
              "  height: 1em;\n",
              "  width: 1em;\n",
              "  text-decoration: none !important;\n",
              "  margin-left: 0.5em;\n",
              "  text-align: center;\n",
              "  /* unfitted */\n",
              "  border: var(--sklearn-color-unfitted-level-1) 1pt solid;\n",
              "  color: var(--sklearn-color-unfitted-level-1);\n",
              "}\n",
              "\n",
              ".sk-estimator-doc-link.fitted,\n",
              "a:link.sk-estimator-doc-link.fitted,\n",
              "a:visited.sk-estimator-doc-link.fitted {\n",
              "  /* fitted */\n",
              "  border: var(--sklearn-color-fitted-level-1) 1pt solid;\n",
              "  color: var(--sklearn-color-fitted-level-1);\n",
              "}\n",
              "\n",
              "/* On hover */\n",
              "div.sk-estimator:hover .sk-estimator-doc-link:hover,\n",
              ".sk-estimator-doc-link:hover,\n",
              "div.sk-label-container:hover .sk-estimator-doc-link:hover,\n",
              ".sk-estimator-doc-link:hover {\n",
              "  /* unfitted */\n",
              "  background-color: var(--sklearn-color-unfitted-level-3);\n",
              "  color: var(--sklearn-color-background);\n",
              "  text-decoration: none;\n",
              "}\n",
              "\n",
              "div.sk-estimator.fitted:hover .sk-estimator-doc-link.fitted:hover,\n",
              ".sk-estimator-doc-link.fitted:hover,\n",
              "div.sk-label-container:hover .sk-estimator-doc-link.fitted:hover,\n",
              ".sk-estimator-doc-link.fitted:hover {\n",
              "  /* fitted */\n",
              "  background-color: var(--sklearn-color-fitted-level-3);\n",
              "  color: var(--sklearn-color-background);\n",
              "  text-decoration: none;\n",
              "}\n",
              "\n",
              "/* Span, style for the box shown on hovering the info icon */\n",
              ".sk-estimator-doc-link span {\n",
              "  display: none;\n",
              "  z-index: 9999;\n",
              "  position: relative;\n",
              "  font-weight: normal;\n",
              "  right: .2ex;\n",
              "  padding: .5ex;\n",
              "  margin: .5ex;\n",
              "  width: min-content;\n",
              "  min-width: 20ex;\n",
              "  max-width: 50ex;\n",
              "  color: var(--sklearn-color-text);\n",
              "  box-shadow: 2pt 2pt 4pt #999;\n",
              "  /* unfitted */\n",
              "  background: var(--sklearn-color-unfitted-level-0);\n",
              "  border: .5pt solid var(--sklearn-color-unfitted-level-3);\n",
              "}\n",
              "\n",
              ".sk-estimator-doc-link.fitted span {\n",
              "  /* fitted */\n",
              "  background: var(--sklearn-color-fitted-level-0);\n",
              "  border: var(--sklearn-color-fitted-level-3);\n",
              "}\n",
              "\n",
              ".sk-estimator-doc-link:hover span {\n",
              "  display: block;\n",
              "}\n",
              "\n",
              "/* \"?\"-specific style due to the `<a>` HTML tag */\n",
              "\n",
              "#sk-container-id-1 a.estimator_doc_link {\n",
              "  float: right;\n",
              "  font-size: 1rem;\n",
              "  line-height: 1em;\n",
              "  font-family: monospace;\n",
              "  background-color: var(--sklearn-color-background);\n",
              "  border-radius: 1rem;\n",
              "  height: 1rem;\n",
              "  width: 1rem;\n",
              "  text-decoration: none;\n",
              "  /* unfitted */\n",
              "  color: var(--sklearn-color-unfitted-level-1);\n",
              "  border: var(--sklearn-color-unfitted-level-1) 1pt solid;\n",
              "}\n",
              "\n",
              "#sk-container-id-1 a.estimator_doc_link.fitted {\n",
              "  /* fitted */\n",
              "  border: var(--sklearn-color-fitted-level-1) 1pt solid;\n",
              "  color: var(--sklearn-color-fitted-level-1);\n",
              "}\n",
              "\n",
              "/* On hover */\n",
              "#sk-container-id-1 a.estimator_doc_link:hover {\n",
              "  /* unfitted */\n",
              "  background-color: var(--sklearn-color-unfitted-level-3);\n",
              "  color: var(--sklearn-color-background);\n",
              "  text-decoration: none;\n",
              "}\n",
              "\n",
              "#sk-container-id-1 a.estimator_doc_link.fitted:hover {\n",
              "  /* fitted */\n",
              "  background-color: var(--sklearn-color-fitted-level-3);\n",
              "}\n",
              "</style><div id=\"sk-container-id-1\" class=\"sk-top-container\"><div class=\"sk-text-repr-fallback\"><pre>MultinomialNB()</pre><b>In a Jupyter environment, please rerun this cell to show the HTML representation or trust the notebook. <br />On GitHub, the HTML representation is unable to render, please try loading this page with nbviewer.org.</b></div><div class=\"sk-container\" hidden><div class=\"sk-item\"><div class=\"sk-estimator fitted sk-toggleable\"><input class=\"sk-toggleable__control sk-hidden--visually\" id=\"sk-estimator-id-1\" type=\"checkbox\" checked><label for=\"sk-estimator-id-1\" class=\"sk-toggleable__label fitted sk-toggleable__label-arrow\"><div><div>MultinomialNB</div></div><div><a class=\"sk-estimator-doc-link fitted\" rel=\"noreferrer\" target=\"_blank\" href=\"https://scikit-learn.org/1.6/modules/generated/sklearn.naive_bayes.MultinomialNB.html\">?<span>Documentation for MultinomialNB</span></a><span class=\"sk-estimator-doc-link fitted\">i<span>Fitted</span></span></div></label><div class=\"sk-toggleable__content fitted\"><pre>MultinomialNB()</pre></div> </div></div></div></div>"
            ]
          },
          "metadata": {},
          "execution_count": 23
        }
      ]
    },
    {
      "cell_type": "markdown",
      "source": [
        "### Passo 1: Avaliação do Modelo"
      ],
      "metadata": {
        "id": "f_XBYduvYDGW"
      }
    },
    {
      "cell_type": "code",
      "source": [
        "y_pred = modelo.predict(x_test_tfidf)\n",
        "acuracia = accuracy_score(y_test, y_pred)\n",
        "print(\"\\nAcurácia do Modelo: \", acuracia)\n",
        "print(\"\\nRelatório de Classificação: \\n\", classification_report(y_test, y_pred))"
      ],
      "metadata": {
        "colab": {
          "base_uri": "https://localhost:8080/"
        },
        "id": "2yIIX62yYZFI",
        "outputId": "94e7a76c-ff80-4673-f6ed-9d08175619e2"
      },
      "execution_count": 24,
      "outputs": [
        {
          "output_type": "stream",
          "name": "stdout",
          "text": [
            "\n",
            "Acurácia do Modelo:  0.5\n",
            "\n",
            "Relatório de Classificação: \n",
            "               precision    recall  f1-score   support\n",
            "\n",
            "    negativo       0.50      1.00      0.67         1\n",
            "    positivo       0.00      0.00      0.00         1\n",
            "\n",
            "    accuracy                           0.50         2\n",
            "   macro avg       0.25      0.50      0.33         2\n",
            "weighted avg       0.25      0.50      0.33         2\n",
            "\n"
          ]
        },
        {
          "output_type": "stream",
          "name": "stderr",
          "text": [
            "/usr/local/lib/python3.11/dist-packages/sklearn/metrics/_classification.py:1565: UndefinedMetricWarning: Precision is ill-defined and being set to 0.0 in labels with no predicted samples. Use `zero_division` parameter to control this behavior.\n",
            "  _warn_prf(average, modifier, f\"{metric.capitalize()} is\", len(result))\n",
            "/usr/local/lib/python3.11/dist-packages/sklearn/metrics/_classification.py:1565: UndefinedMetricWarning: Precision is ill-defined and being set to 0.0 in labels with no predicted samples. Use `zero_division` parameter to control this behavior.\n",
            "  _warn_prf(average, modifier, f\"{metric.capitalize()} is\", len(result))\n",
            "/usr/local/lib/python3.11/dist-packages/sklearn/metrics/_classification.py:1565: UndefinedMetricWarning: Precision is ill-defined and being set to 0.0 in labels with no predicted samples. Use `zero_division` parameter to control this behavior.\n",
            "  _warn_prf(average, modifier, f\"{metric.capitalize()} is\", len(result))\n"
          ]
        }
      ]
    },
    {
      "cell_type": "markdown",
      "source": [
        "## Passo 2: Classificação de um Novo Texto"
      ],
      "metadata": {
        "id": "_yyKJBrKY6Dv"
      }
    },
    {
      "cell_type": "code",
      "source": [
        "def classificar_texto(texto, vectorizer, modelo):\n",
        "  # Pré-Processa o Texto de Entrada\n",
        "  texto_processado = preprocessar_texto(texto)\n",
        "\n",
        "  # Converte o Texto Pré-Processado em um Vetor TF-IDF\n",
        "  texto_tfidf = vectorizer.transform([texto_processado])\n",
        "\n",
        "  # Classifica o Texto Usando o Modelo Treinado\n",
        "  categoria_prevista = modelo.predict(texto_tfidf)[0]\n",
        "\n",
        "  # Obtém as Probabilidades de Cada Categoria\n",
        "  probabilidades = modelo.predict_proba(texto_tfidf)[0]\n",
        "  categorias = modelo.classes_\n",
        "  probabilidades_por_categoria = dict(zip(categorias, probabilidades))\n",
        "  return categoria_prevista, probabilidades_por_categoria\n",
        "\n",
        "novo_texto = \"Este filme é incrível! Recomendo a todos!\"\n",
        "categoria, probabilidades = classificar_texto(novo_texto, vectorizer, modelo)\n",
        "print(\"\\nNovo Texto: \", novo_texto)\n",
        "print(\"Categoria Prevista: \", categoria)\n",
        "print(\"Probabilidade p/ Cat.: \", probabilidades)"
      ],
      "metadata": {
        "colab": {
          "base_uri": "https://localhost:8080/"
        },
        "id": "rwrVRLr_aXj_",
        "outputId": "a7279c9a-1a07-4d83-bec3-e2930d5aeec2"
      },
      "execution_count": 26,
      "outputs": [
        {
          "output_type": "stream",
          "name": "stdout",
          "text": [
            "\n",
            "Novo Texto:  Este filme é incrível! Recomendo a todos!\n",
            "Categoria Prevista:  positivo\n",
            "Probabilidade p/ Cat.:  {np.str_('negativo'): np.float64(0.29256806327043555), np.str_('positivo'): np.float64(0.7074319367295648)}\n"
          ]
        }
      ]
    },
    {
      "cell_type": "markdown",
      "source": [
        "# Etapa 4: Treinamento do Modelo"
      ],
      "metadata": {
        "id": "NT6lhEfheepC"
      }
    },
    {
      "cell_type": "code",
      "source": [
        "# Importação das ferramentas utilizadas\n",
        "from sklearn.linear_model import LogisticRegression\n",
        "from sklearn.svm import SVC\n",
        "from sklearn.model_selection import GridSearchCV\n",
        "\n",
        "# Passo 1: Escolher um ou mais modelos de aprendizado de máquina para classificação\n",
        "# (Naive Bayes, Regressão Logística, SVM, Transformers).\n",
        "# Neste código, serão utilizados Naive Bayes, Regressão Logística e SVM.\n",
        "\n",
        "# Passo 2: Instanciar os modelos\n",
        "# Instancia os modelos de aprendizado de máquina.\n",
        "naive_bayes_model = MultinomialNB()\n",
        "logistic_regression_model = LogisticRegression(random_state=42)\n",
        "svm_model = SVC(random_state=42, probability=True)\n",
        "\n",
        "# Passo 3: Treinar os modelos usando os dados de treinamento e as representações de texto extraídas\n",
        "# Treina os modelos usando os dados de treinamento e as representações TF-IDF.\n",
        "naive_bayes_model.fit(x_train_tfidf, y_train)\n",
        "logistic_regression_model.fit(x_train_tfidf, y_train)\n",
        "svm_model.fit(x_train_tfidf, y_train)\n",
        "\n",
        "# Passo 4: Ajustar os hiperparâmetros dos modelos usando validação cruzada (opcional)\n",
        "# Define os hiperparâmetros a serem ajustados para cada modelo.\n",
        "param_grid_nb = {}  # Naive Bayes não possui hiperparâmetros significativos para ajustar\n",
        "param_grid_lr = {'C': [0.1, 1, 10], 'solver': ['liblinear', 'lbfgs']}\n",
        "param_grid_svm = {'C': [0.1, 1, 10], 'kernel': ['linear', 'rbf']}\n",
        "\n",
        "# Realiza a busca em grade com validação cruzada para encontrar os melhores hiperparâmetros.\n",
        "grid_search_lr = GridSearchCV(logistic_regression_model, param_grid_lr, cv=2)\n",
        "grid_search_svm = GridSearchCV(svm_model, param_grid_svm, cv=2)"
      ],
      "metadata": {
        "id": "C3R9qRKuhfac"
      },
      "execution_count": 29,
      "outputs": []
    },
    {
      "cell_type": "code",
      "source": [
        "grid_search_lr.fit(x_train_tfidf, y_train)\n",
        "grid_search_svm.fit(x_train_tfidf, y_train)\n",
        "\n",
        "# Imprime os melhores hiperparâmetros encontrados.\n",
        "print(\"\\nMelhores hiperparâmetros para Regressão Logística:\", grid_search_lr.best_params_)\n",
        "print(\"Melhores hiperparâmetros para SVM:\", grid_search_svm.best_params_)\n",
        "\n",
        "# Obtém os modelos com os melhores hiperparâmetros.\n",
        "best_logistic_regression_model = grid_search_lr.best_estimator_\n",
        "best_svm_model = grid_search_svm.best_estimator_\n",
        "\n",
        "# Passo 5: Avaliação do modelo\n",
        "# Avalia o desempenho dos modelos usando o conjunto de teste.\n",
        "# Calcula a acurácia e exibe um relatório de classificação detalhado para cada modelo.\n",
        "print(\"\\nResultados da avaliação:\")\n",
        "\n",
        "# Avaliação do modelo Naive Bayes\n",
        "y_pred_nb = naive_bayes_model.predict(x_test_tfidf)\n",
        "acuracia_nb = accuracy_score(y_test, y_pred_nb)\n",
        "print(\"\\nNaive Bayes Multinomial:\")\n",
        "print(\"Acurácia:\", acuracia_nb)\n",
        "print(\"Relatório de Classificação:\\n\", classification_report(y_test, y_pred_nb))\n",
        "\n",
        "# Avaliação do modelo de Regressão Logística\n",
        "y_pred_lr = best_logistic_regression_model.predict(x_test_tfidf)\n",
        "acuracia_lr = accuracy_score(y_test, y_pred_lr)\n",
        "print(\"\\nRegressão Logística:\")\n",
        "print(\"Acurácia:\", acuracia_lr)\n",
        "print(\"Relatório de Classificação:\\n\", classification_report(y_test, y_pred_lr))"
      ],
      "metadata": {
        "colab": {
          "base_uri": "https://localhost:8080/"
        },
        "id": "y_ySUEdkiIfv",
        "outputId": "67ef58bc-264e-488f-fad3-1fe9bb907b1a"
      },
      "execution_count": 33,
      "outputs": [
        {
          "output_type": "stream",
          "name": "stdout",
          "text": [
            "\n",
            "Melhores hiperparâmetros para Regressão Logística: {'C': 0.1, 'solver': 'liblinear'}\n",
            "Melhores hiperparâmetros para SVM: {'C': 1, 'kernel': 'rbf'}\n",
            "\n",
            "Resultados da avaliação:\n",
            "\n",
            "Naive Bayes Multinomial:\n",
            "Acurácia: 0.5\n",
            "Relatório de Classificação:\n",
            "               precision    recall  f1-score   support\n",
            "\n",
            "    negativo       0.50      1.00      0.67         1\n",
            "    positivo       0.00      0.00      0.00         1\n",
            "\n",
            "    accuracy                           0.50         2\n",
            "   macro avg       0.25      0.50      0.33         2\n",
            "weighted avg       0.25      0.50      0.33         2\n",
            "\n",
            "\n",
            "Regressão Logística:\n",
            "Acurácia: 0.5\n",
            "Relatório de Classificação:\n",
            "               precision    recall  f1-score   support\n",
            "\n",
            "    negativo       0.50      1.00      0.67         1\n",
            "    positivo       0.00      0.00      0.00         1\n",
            "\n",
            "    accuracy                           0.50         2\n",
            "   macro avg       0.25      0.50      0.33         2\n",
            "weighted avg       0.25      0.50      0.33         2\n",
            "\n"
          ]
        },
        {
          "output_type": "stream",
          "name": "stderr",
          "text": [
            "/usr/local/lib/python3.11/dist-packages/sklearn/metrics/_classification.py:1565: UndefinedMetricWarning: Precision is ill-defined and being set to 0.0 in labels with no predicted samples. Use `zero_division` parameter to control this behavior.\n",
            "  _warn_prf(average, modifier, f\"{metric.capitalize()} is\", len(result))\n",
            "/usr/local/lib/python3.11/dist-packages/sklearn/metrics/_classification.py:1565: UndefinedMetricWarning: Precision is ill-defined and being set to 0.0 in labels with no predicted samples. Use `zero_division` parameter to control this behavior.\n",
            "  _warn_prf(average, modifier, f\"{metric.capitalize()} is\", len(result))\n",
            "/usr/local/lib/python3.11/dist-packages/sklearn/metrics/_classification.py:1565: UndefinedMetricWarning: Precision is ill-defined and being set to 0.0 in labels with no predicted samples. Use `zero_division` parameter to control this behavior.\n",
            "  _warn_prf(average, modifier, f\"{metric.capitalize()} is\", len(result))\n",
            "/usr/local/lib/python3.11/dist-packages/sklearn/metrics/_classification.py:1565: UndefinedMetricWarning: Precision is ill-defined and being set to 0.0 in labels with no predicted samples. Use `zero_division` parameter to control this behavior.\n",
            "  _warn_prf(average, modifier, f\"{metric.capitalize()} is\", len(result))\n",
            "/usr/local/lib/python3.11/dist-packages/sklearn/metrics/_classification.py:1565: UndefinedMetricWarning: Precision is ill-defined and being set to 0.0 in labels with no predicted samples. Use `zero_division` parameter to control this behavior.\n",
            "  _warn_prf(average, modifier, f\"{metric.capitalize()} is\", len(result))\n",
            "/usr/local/lib/python3.11/dist-packages/sklearn/metrics/_classification.py:1565: UndefinedMetricWarning: Precision is ill-defined and being set to 0.0 in labels with no predicted samples. Use `zero_division` parameter to control this behavior.\n",
            "  _warn_prf(average, modifier, f\"{metric.capitalize()} is\", len(result))\n"
          ]
        }
      ]
    },
    {
      "cell_type": "code",
      "source": [
        "# Avaliação do modelo SVM\n",
        "y_pred_svm = best_svm_model.predict(x_test_tfidf)\n",
        "acuracia_svm = accuracy_score(y_test, y_pred_svm)\n",
        "print(\"\\nSVM:\")\n",
        "print(\"Acurácia:\", acuracia_svm)\n",
        "print(\"Relatório de Classificação:\\n\", classification_report(y_test, y_pred_svm))\n",
        "\n",
        "# Passo 6: Classificação de um novo texto\n",
        "# Define uma função para classificar um novo texto usando o modelo treinado.\n",
        "def classificar_texto(texto, vectorizer, modelo):\n",
        "    # Preprocessa o texto de entrada\n",
        "    texto_processado = preprocessar_texto(texto)\n",
        "\n",
        "    # Converte o texto pré-processado em um vetor TF-IDF\n",
        "    texto_tfidf = vectorizer.transform([texto_processado])\n",
        "\n",
        "    # Classifica o texto usando o modelo treinado\n",
        "    categoria_prevista = modelo.predict(texto_tfidf)[0]\n",
        "\n",
        "    # (Opcional) Obtém as probabilidades de cada categoria\n",
        "    probabilidades = modelo.predict_proba(texto_tfidf)[0]\n",
        "    categorias = modelo.classes_\n",
        "    probabilidades_por_categoria = dict(zip(categorias, probabilidades))\n",
        "\n",
        "    return categoria_prevista, probabilidades_por_categoria"
      ],
      "metadata": {
        "colab": {
          "base_uri": "https://localhost:8080/"
        },
        "id": "IErRygURiXA3",
        "outputId": "ebc91cbf-a030-4d45-a7a4-ff7391cf79ab"
      },
      "execution_count": 37,
      "outputs": [
        {
          "output_type": "stream",
          "name": "stdout",
          "text": [
            "\n",
            "SVM:\n",
            "Acurácia: 1.0\n",
            "Relatório de Classificação:\n",
            "               precision    recall  f1-score   support\n",
            "\n",
            "    negativo       1.00      1.00      1.00         1\n",
            "    positivo       1.00      1.00      1.00         1\n",
            "\n",
            "    accuracy                           1.00         2\n",
            "   macro avg       1.00      1.00      1.00         2\n",
            "weighted avg       1.00      1.00      1.00         2\n",
            "\n"
          ]
        }
      ]
    },
    {
      "cell_type": "code",
      "source": [
        "# Exemplo de uso da função para classificar um novo texto\n",
        "novo_texto = \"Este filme é incrível, recomendo a todos!\"\n",
        "categoria_nb, probabilidades_nb = classificar_texto(novo_texto, vectorizer, naive_bayes_model)\n",
        "categoria_lr, probabilidades_lr = classificar_texto(novo_texto, vectorizer, best_logistic_regression_model)\n",
        "categoria_svm, probabilidades_svm = classificar_texto(novo_texto, vectorizer, best_svm_model)\n",
        "\n",
        "print(\"\\nNovo texto:\", novo_texto)\n",
        "print(\"\\nResultados da classificação:\")\n",
        "\n",
        "print(\"\\nNaive Bayes Multinomial:\")\n",
        "print(\"Categoria prevista:\", categoria_nb)\n",
        "print(\"Probabilidades por categoria:\", probabilidades_nb)\n",
        "\n",
        "print(\"\\nRegressão Logística:\")\n",
        "print(\"Categoria prevista:\", categoria_lr)\n",
        "print(\"Probabilidades por categoria:\", probabilidades_lr)\n",
        "\n",
        "print(\"\\nSVM:\")\n",
        "print(\"Categoria prevista:\", categoria_svm)\n",
        "print(\"Probabilidades por categoria:\", probabilidades_svm)"
      ],
      "metadata": {
        "colab": {
          "base_uri": "https://localhost:8080/"
        },
        "id": "qIS58pu0ik4y",
        "outputId": "17796f70-0a51-42bf-b727-39d0bc7d6313"
      },
      "execution_count": 36,
      "outputs": [
        {
          "output_type": "stream",
          "name": "stdout",
          "text": [
            "\n",
            "Novo texto: Este filme é incrível, recomendo a todos!\n",
            "\n",
            "Resultados da classificação:\n",
            "\n",
            "Naive Bayes Multinomial:\n",
            "Categoria prevista: positivo\n",
            "Probabilidades por categoria: {np.str_('negativo'): np.float64(0.29256806327043555), np.str_('positivo'): np.float64(0.7074319367295648)}\n",
            "\n",
            "Regressão Logística:\n",
            "Categoria prevista: positivo\n",
            "Probabilidades por categoria: {'negativo': np.float64(0.4868942836287754), 'positivo': np.float64(0.5131057163712246)}\n",
            "\n",
            "SVM:\n",
            "Categoria prevista: positivo\n",
            "Probabilidades por categoria: {'negativo': np.float64(0.8817303978937229), 'positivo': np.float64(0.11826960210627731)}\n"
          ]
        }
      ]
    },
    {
      "cell_type": "markdown",
      "source": [
        "# Etapa 5: Avaliação do Modelo"
      ],
      "metadata": {
        "id": "w-FKDafPiscc"
      }
    },
    {
      "cell_type": "code",
      "source": [
        "# Passo 1: Fazer previsões no conjunto de teste usando os modelos treinados.\n",
        "# Passo 2: Calcular as métricas de desempenho apropriadas (precisão, revocação, F1-score, acurácia).\n",
        "# Passo 3: Exibir e analisar os resultados.\n",
        "\n",
        "print(\"\\nResultados da Avaliação:\")\n",
        "\n",
        "# Avaliação do modelo Naive Bayes\n",
        "y_pred_nb = naive_bayes_model.predict(x_test_tfidf)\n",
        "acuracia_nb = accuracy_score(y_test, y_pred_nb)\n",
        "print(\"\\nNaive Bayes Multinomial:\")\n",
        "print(\"Acurácia:\", acuracia_nb)\n",
        "print(\"Relatório de Classificação:\\n\", classification_report(y_test, y_pred_nb, zero_division=0))\n",
        "\n",
        "# Avaliação do modelo de Regressão Logística\n",
        "y_pred_lr = best_logistic_regression_model.predict(x_test_tfidf)\n",
        "acuracia_lr = accuracy_score(y_test, y_pred_lr)\n",
        "print(\"\\nRegressão Logística:\")\n",
        "print(\"Acurácia:\", acuracia_lr)\n",
        "print(\"Relatório de Classificação:\\n\", classification_report(y_test, y_pred_lr, zero_division=0))\n",
        "\n",
        "# Avaliação do modelo SVM\n",
        "y_pred_svm = best_svm_model.predict(x_test_tfidf)\n",
        "acuracia_svm = accuracy_score(y_test, y_pred_svm)\n",
        "print(\"\\nSVM:\")\n",
        "print(\"Acurácia:\", acuracia_svm)\n",
        "print(\"Relatório de Classificação:\\n\", classification_report(y_test, y_pred_svm, zero_division=0))\n",
        "\n",
        "# Passo 4: Comparar o desempenho dos diferentes modelos.\n",
        "print(\"\\nComparação de Modelos:\")\n",
        "print(f\"Acurácia Naive Bayes: {acuracia_nb:.4f}\")\n",
        "print(f\"Acurácia Regressão Logística: {acuracia_lr:.4f}\")\n",
        "print(f\"Acurácia SVM: {acuracia_svm:.4f}\")\n",
        "\n",
        "modelos = ['Naive Bayes', 'Regressão Logística', 'SVM']\n",
        "acuracias = [acuracia_nb, acuracia_lr, acuracia_svm]\n",
        "\n",
        "plt.figure(figsize=(8, 6))\n",
        "plt.bar(modelos, acuracias, color=['blue', 'green', 'red'])\n",
        "plt.xlabel('Modelo')\n",
        "plt.ylabel('Acurácia')\n",
        "plt.ylim(0, 1)  # Define o limite do eixo y para 0 a 1\n",
        "plt.title('Comparação de Acurácia dos Modelos')\n",
        "plt.show()"
      ],
      "metadata": {
        "colab": {
          "base_uri": "https://localhost:8080/",
          "height": 1000
        },
        "id": "P64rm8bqiynR",
        "outputId": "19fb04b2-750b-4460-c51b-8203bbe69fa1"
      },
      "execution_count": 38,
      "outputs": [
        {
          "output_type": "stream",
          "name": "stdout",
          "text": [
            "\n",
            "Resultados da Avaliação:\n",
            "\n",
            "Naive Bayes Multinomial:\n",
            "Acurácia: 0.5\n",
            "Relatório de Classificação:\n",
            "               precision    recall  f1-score   support\n",
            "\n",
            "    negativo       0.50      1.00      0.67         1\n",
            "    positivo       0.00      0.00      0.00         1\n",
            "\n",
            "    accuracy                           0.50         2\n",
            "   macro avg       0.25      0.50      0.33         2\n",
            "weighted avg       0.25      0.50      0.33         2\n",
            "\n",
            "\n",
            "Regressão Logística:\n",
            "Acurácia: 0.5\n",
            "Relatório de Classificação:\n",
            "               precision    recall  f1-score   support\n",
            "\n",
            "    negativo       0.50      1.00      0.67         1\n",
            "    positivo       0.00      0.00      0.00         1\n",
            "\n",
            "    accuracy                           0.50         2\n",
            "   macro avg       0.25      0.50      0.33         2\n",
            "weighted avg       0.25      0.50      0.33         2\n",
            "\n",
            "\n",
            "SVM:\n",
            "Acurácia: 1.0\n",
            "Relatório de Classificação:\n",
            "               precision    recall  f1-score   support\n",
            "\n",
            "    negativo       1.00      1.00      1.00         1\n",
            "    positivo       1.00      1.00      1.00         1\n",
            "\n",
            "    accuracy                           1.00         2\n",
            "   macro avg       1.00      1.00      1.00         2\n",
            "weighted avg       1.00      1.00      1.00         2\n",
            "\n",
            "\n",
            "Comparação de Modelos:\n",
            "Acurácia Naive Bayes: 0.5000\n",
            "Acurácia Regressão Logística: 0.5000\n",
            "Acurácia SVM: 1.0000\n"
          ]
        },
        {
          "output_type": "display_data",
          "data": {
            "text/plain": [
              "<Figure size 800x600 with 1 Axes>"
            ],
            "image/png": "[encoded data removed]"
          },
          "metadata": {}
        }
      ]
    },
    {
      "cell_type": "markdown",
      "source": [
        "# Etapa 6: Classificação de um Novo Texto"
      ],
      "metadata": {
        "id": "Dt88PQoIkLSr"
      }
    },
    {
      "cell_type": "code",
      "source": [
        "# Passo 1: Pré-processar o novo texto de entrada usando as mesmas etapas da Etapa 1.\n",
        "# Passo 2: Extrair as características do novo texto usando o mesmo método da Etapa 2.\n",
        "# Passo 3: Usar o modelo treinado para prever a categoria do novo texto.\n",
        "# Passo 4: Exibir a categoria prevista e (opcionalmente) as probabilidades de cada categoria.\n",
        "\n",
        "def classificar_novo_texto(texto, vectorizer, modelo):\n",
        "    \"\"\"\n",
        "    Classifica um novo texto de entrada usando um modelo treinado.\n",
        "\n",
        "    Args:\n",
        "        texto (str): O texto a ser classificado.\n",
        "        vectorizer: O vetorizaror TF-IDF usado para extrair as características do texto.\n",
        "        modelo: O modelo de aprendizado de máquina treinado.\n",
        "\n",
        "    Returns:\n",
        "        str: A categoria prevista para o texto.\n",
        "        dict: As probabilidades de o texto pertencer a cada categoria.\n",
        "    \"\"\"\n",
        "\n",
        "    # Passo 1: Pré-processar o novo texto de entrada usando as mesmas etapas da Etapa 1.\n",
        "    texto_processado = preprocessar_texto(texto)\n",
        "\n",
        "    # Passo 2: Extrair as características do novo texto usando o mesmo método da Etapa 2.\n",
        "    texto_tfidf = vectorizer.transform([texto_processado])\n",
        "\n",
        "    # Passo 3: Usar o modelo treinado para prever a categoria do novo texto.\n",
        "    categoria_prevista = modelo.predict(texto_tfidf)[0]\n",
        "\n",
        "    # Passo 4: Exibir a categoria prevista e (opcionalmente) as probabilidades de cada categoria.\n",
        "    try:\n",
        "        probabilidades = modelo.predict_proba(texto_tfidf)[0]\n",
        "        categorias = modelo.classes_\n",
        "        probabilidades_por_categoria = dict(zip(categorias, probabilidades))\n",
        "        return categoria_prevista, probabilidades_por_categoria\n",
        "    except AttributeError:\n",
        "        return categoria_prevista, {}  # Modelos como SVM podem não ter predict_proba\n",
        "\n",
        "# Exemplo de uso da função para classificar um novo texto\n",
        "novo_texto = \"Este filme é incrível, recomendo a todos!\"\n",
        "\n",
        "print(\"\\nNovo Texto: \", novo_texto)\n",
        "print(\"\\nResultados da Classificação: \")\n",
        "\n",
        "# Classificar usando Naive Bayes\n",
        "categoria_nb, probabilidades_nb = classificar_novo_texto(novo_texto, vectorizer, naive_bayes_model)\n",
        "print(\"\\nNaive Bayes: \")\n",
        "print(\"Categoria Prevista: \", categoria_nb)\n",
        "if probabilidades_nb:\n",
        "    print(\"Probabilidades: \", probabilidades_nb)\n",
        "\n",
        "# Classificar usando Regressão Logística\n",
        "categoria_lr, probabilidades_lr = classificar_novo_texto(novo_texto, vectorizer, best_logistic_regression_model)\n",
        "print(\"\\nRegressão Logística: \")\n",
        "print(\"Categoria Prevista: \", categoria_lr)\n",
        "if probabilidades_lr:\n",
        "    print(\"Probabilidades: \", probabilidades_lr)\n",
        "\n",
        "# Classificar usando SVM\n",
        "categoria_svm, probabilidades_svm = classificar_novo_texto(novo_texto, vectorizer, best_svm_model)\n",
        "print(\"\\nSVM: \")\n",
        "print(\"Categoria Prevista: \", categoria_svm)\n",
        "if probabilidades_svm:\n",
        "    print(\"Probabilidades: \", probabilidades_svm)"
      ],
      "metadata": {
        "colab": {
          "base_uri": "https://localhost:8080/"
        },
        "id": "FE0nsZTyklMC",
        "outputId": "21c3a460-bb2d-46e0-86fb-cd4969300c19"
      },
      "execution_count": 39,
      "outputs": [
        {
          "output_type": "stream",
          "name": "stdout",
          "text": [
            "\n",
            "Novo Texto:  Este filme é incrível, recomendo a todos!\n",
            "\n",
            "Resultados da Classificação: \n",
            "\n",
            "Naive Bayes: \n",
            "Categoria Prevista:  positivo\n",
            "Probabilidades:  {np.str_('negativo'): np.float64(0.29256806327043555), np.str_('positivo'): np.float64(0.7074319367295648)}\n",
            "\n",
            "Regressão Logística: \n",
            "Categoria Prevista:  positivo\n",
            "Probabilidades:  {'negativo': np.float64(0.4868942836287754), 'positivo': np.float64(0.5131057163712246)}\n",
            "\n",
            "SVM: \n",
            "Categoria Prevista:  positivo\n",
            "Probabilidades:  {'negativo': np.float64(0.8817303978937229), 'positivo': np.float64(0.11826960210627731)}\n"
          ]
        }
      ]
    }
  ]
}